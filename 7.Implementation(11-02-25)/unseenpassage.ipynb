{
 "cells": [
  {
   "cell_type": "markdown",
   "metadata": {},
   "source": [
    "step1:Import Libaries"
   ]
  },
  {
   "cell_type": "code",
   "execution_count": 1,
   "metadata": {},
   "outputs": [
    {
     "name": "stderr",
     "output_type": "stream",
     "text": [
      "[nltk_data] Downloading package punkt to\n",
      "[nltk_data]     C:\\Users\\Dell\\AppData\\Roaming\\nltk_data...\n",
      "[nltk_data]   Package punkt is already up-to-date!\n",
      "[nltk_data] Downloading package stopwords to\n",
      "[nltk_data]     C:\\Users\\Dell\\AppData\\Roaming\\nltk_data...\n",
      "[nltk_data]   Package stopwords is already up-to-date!\n",
      "[nltk_data] Downloading package wordnet to\n",
      "[nltk_data]     C:\\Users\\Dell\\AppData\\Roaming\\nltk_data...\n",
      "[nltk_data]   Package wordnet is already up-to-date!\n"
     ]
    },
    {
     "data": {
      "text/plain": [
       "True"
      ]
     },
     "execution_count": 1,
     "metadata": {},
     "output_type": "execute_result"
    }
   ],
   "source": [
    "import nltk\n",
    "import re\n",
    "import  heapq\n",
    "import string\n",
    "import numpy as np\n",
    "from nltk.tokenize import sent_tokenize,word_tokenize\n",
    "from nltk.corpus import stopwords\n",
    "from sklearn.feature_extraction.text import CountVectorizer\n",
    "from nltk.stem import WordNetLemmatizer\n",
    "from sklearn.metrics.pairwise import cosine_similarity\n",
    "nltk.download('punkt')\n",
    "nltk.download('stopwords')\n",
    "nltk.download('wordnet')"
   ]
  },
  {
   "cell_type": "code",
   "execution_count": 8,
   "metadata": {},
   "outputs": [],
   "source": [
    "passage=\"\"\" The Amazon rainforest, often referred to as the \"lungs of the Earth,\"\n",
    " plays a crucial role in maintaining global oxygen and carbon dioxide levels. \n",
    " Spanning over nine countries in South America, the Amazon is home to millions of \n",
    " plant and animal species, many of which are yet to be discovered. The rainforest \n",
    " also supports indigenous communities that have lived there for centuries, relying \n",
    " on its resources for food, shelter, and medicine. However, deforestation, illegal \n",
    " mining, and climate change pose severe threats to this vital ecosystem. Scientists \n",
    " warn that if destruction continues at the current rate, the Amazon could reach a \n",
    " tipping point where it no longer functions as a rainforest, leading to drastic\n",
    "   consequences for the planet’s climate.\"\"\""
   ]
  },
  {
   "cell_type": "code",
   "execution_count": 15,
   "metadata": {},
   "outputs": [],
   "source": [
    "questions = [\n",
    "\"Why is the Amazon rainforest called the lungs of the Earth?\",\n",
    "\"How many countries does the Amazon rainforest span across?\",\n",
    "\"Who relies on the Amazon rainforest for resources?\",\n",
    "\"What are some threats to the Amazon rainforest?\",\n",
    "\"What could happen if deforestation continues at the current rate?\"\n",
    "]\n"
   ]
  },
  {
   "cell_type": "markdown",
   "metadata": {},
   "source": [
    "step 3:Processes text"
   ]
  },
  {
   "cell_type": "code",
   "execution_count": 11,
   "metadata": {},
   "outputs": [],
   "source": [
    "\n",
    "sentences = sent_tokenize(passage)\n",
    "\n",
    "def preprocess_text(text):\n",
    "    text = text.lower()\n",
    "    \n",
    "    text = re.sub(r'[^a-z\\s]', '', text)\n",
    "    text = text.translate(str.maketrans('', '', string.punctuation))\n",
    "    \n",
    "    tokens = word_tokenize(text)\n",
    "    \n",
    "    stop_words = set(stopwords.words('english'))\n",
    "    tokens = [word for word in tokens if word not in stop_words]\n",
    "    \n",
    "    lemmatizer = WordNetLemmatizer()\n",
    "    tokens = [lemmatizer.lemmatize(word,pos='v') for word in tokens]\n",
    "\n",
    "    return ' '.join(tokens)\n",
    "cleantext = [preprocess_text(sent) for sent in sentences]    "
   ]
  },
  {
   "cell_type": "code",
   "execution_count": 12,
   "metadata": {},
   "outputs": [],
   "source": [
    "vectorizer = CountVectorizer(ngram_range=(1, 3))  \n",
    "ngram_matrix = vectorizer.fit_transform(cleantext)"
   ]
  },
  {
   "cell_type": "markdown",
   "metadata": {},
   "source": [
    "Question Answering"
   ]
  },
  {
   "cell_type": "code",
   "execution_count": 16,
   "metadata": {},
   "outputs": [],
   "source": [
    "\n",
    "def answer_question(question):\n",
    "    question = preprocess_text(question)\n",
    "    question_vector = vectorizer.transform([question])\n",
    "    similarity_scores = cosine_similarity(ngram_matrix, question_vector)\n",
    "    best_sentence_idx = np.argmax(similarity_scores)\n",
    "    \n",
    "    return sentences[best_sentence_idx]"
   ]
  },
  {
   "cell_type": "code",
   "execution_count": 17,
   "metadata": {},
   "outputs": [
    {
     "name": "stdout",
     "output_type": "stream",
     "text": [
      "Q:Why is the Amazon rainforest called the lungs of the Earth?\n",
      "A: The Amazon rainforest, often referred to as the \"lungs of the Earth,\"\n",
      " plays a crucial role in maintaining global oxygen and carbon dioxide levels.\n",
      "\n",
      "Q:How many countries does the Amazon rainforest span across?\n",
      "A:Spanning over nine countries in South America, the Amazon is home to millions of \n",
      " plant and animal species, many of which are yet to be discovered.\n",
      "\n",
      "Q:Who relies on the Amazon rainforest for resources?\n",
      "A:The rainforest \n",
      " also supports indigenous communities that have lived there for centuries, relying \n",
      " on its resources for food, shelter, and medicine.\n",
      "\n",
      "Q:What are some threats to the Amazon rainforest?\n",
      "A: The Amazon rainforest, often referred to as the \"lungs of the Earth,\"\n",
      " plays a crucial role in maintaining global oxygen and carbon dioxide levels.\n",
      "\n",
      "Q:What could happen if deforestation continues at the current rate?\n",
      "A:Scientists \n",
      " warn that if destruction continues at the current rate, the Amazon could reach a \n",
      " tipping point where it no longer functions as a rainforest, leading to drastic\n",
      "   consequences for the planet’s climate.\n",
      "\n"
     ]
    }
   ],
   "source": [
    "for question in questions:\n",
    "    print(f\"Q:{question}\")\n",
    "    print(f\"A:{answer_question(question)}\")\n",
    "    print()"
   ]
  },
  {
   "cell_type": "code",
   "execution_count": null,
   "metadata": {},
   "outputs": [],
   "source": []
  }
 ],
 "metadata": {
  "kernelspec": {
   "display_name": "venv_new",
   "language": "python",
   "name": "python3"
  },
  "language_info": {
   "codemirror_mode": {
    "name": "ipython",
    "version": 3
   },
   "file_extension": ".py",
   "mimetype": "text/x-python",
   "name": "python",
   "nbconvert_exporter": "python",
   "pygments_lexer": "ipython3",
   "version": "3.10.16"
  }
 },
 "nbformat": 4,
 "nbformat_minor": 2
}
