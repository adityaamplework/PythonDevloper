{
 "cells": [
  {
   "cell_type": "markdown",
   "metadata": {},
   "source": [
    "<H1>Without Exception Handling"
   ]
  },
  {
   "cell_type": "code",
   "execution_count": 6,
   "metadata": {},
   "outputs": [],
   "source": [
    "def inputs():\n",
    "    first=int(input(\"Enter first Number\"))\n",
    "    second=(input(\"Enter Second Number\"))\n",
    "    return (first,second)"
   ]
  },
  {
   "cell_type": "code",
   "execution_count": 2,
   "metadata": {},
   "outputs": [],
   "source": [
    "def add(first,second):\n",
    "    return first+second\n"
   ]
  },
  {
   "cell_type": "code",
   "execution_count": 3,
   "metadata": {},
   "outputs": [],
   "source": [
    "def div(first,second):\n",
    "    return first/second"
   ]
  },
  {
   "cell_type": "code",
   "execution_count": 7,
   "metadata": {},
   "outputs": [
    {
     "ename": "TypeError",
     "evalue": "unsupported operand type(s) for +: 'int' and 'str'",
     "output_type": "error",
     "traceback": [
      "\u001b[1;31m---------------------------------------------------------------------------\u001b[0m",
      "\u001b[1;31mTypeError\u001b[0m                                 Traceback (most recent call last)",
      "Cell \u001b[1;32mIn[7], line 2\u001b[0m\n\u001b[0;32m      1\u001b[0m first,second\u001b[38;5;241m=\u001b[39minputs()\n\u001b[1;32m----> 2\u001b[0m add(first,second)\n\u001b[0;32m      3\u001b[0m div(first,second)\n",
      "Cell \u001b[1;32mIn[2], line 2\u001b[0m, in \u001b[0;36madd\u001b[1;34m(first, second)\u001b[0m\n\u001b[0;32m      1\u001b[0m \u001b[38;5;28;01mdef\u001b[39;00m \u001b[38;5;21madd\u001b[39m(first,second):\n\u001b[1;32m----> 2\u001b[0m     \u001b[38;5;28;01mreturn\u001b[39;00m first\u001b[38;5;241m+\u001b[39msecond\n",
      "\u001b[1;31mTypeError\u001b[0m: unsupported operand type(s) for +: 'int' and 'str'"
     ]
    }
   ],
   "source": [
    "first,second=inputs()\n",
    "add(first,second)\n",
    "div(first,second)"
   ]
  },
  {
   "cell_type": "markdown",
   "metadata": {},
   "source": [
    "<h1>With Exception Handling"
   ]
  },
  {
   "cell_type": "code",
   "execution_count": 8,
   "metadata": {},
   "outputs": [],
   "source": [
    "def inputs():\n",
    "  while True:\n",
    "    try:\n",
    "        first=int(input(\"Enter first Number\"))\n",
    "        second=int(input(\"Enter Second Number\"))\n",
    "        return (first,second)\n",
    "    except ValueError:\n",
    "        print(\"Pls provide Valid Value\")  \n",
    "    \n",
    "        "
   ]
  },
  {
   "cell_type": "code",
   "execution_count": 10,
   "metadata": {},
   "outputs": [
    {
     "name": "stdout",
     "output_type": "stream",
     "text": [
      "Pls provide Valid Value\n",
      "Pls provide Valid Value\n",
      "Pls provide Valid Value\n",
      "Pls provide Valid Value\n",
      "Pls provide Valid Value\n"
     ]
    },
    {
     "data": {
      "text/plain": [
       "(5, 5)"
      ]
     },
     "execution_count": 10,
     "metadata": {},
     "output_type": "execute_result"
    }
   ],
   "source": [
    "inputs()"
   ]
  },
  {
   "cell_type": "code",
   "execution_count": 11,
   "metadata": {},
   "outputs": [],
   "source": [
    "def add(first,second):\n",
    "    try:\n",
    "        return first+second\n",
    "    \n",
    "    except TypeError:\n",
    "        print(\"nhi ho skta\")\n"
   ]
  },
  {
   "cell_type": "code",
   "execution_count": 13,
   "metadata": {},
   "outputs": [
    {
     "data": {
      "text/plain": [
       "10"
      ]
     },
     "execution_count": 13,
     "metadata": {},
     "output_type": "execute_result"
    }
   ],
   "source": [
    "add(5,5)"
   ]
  },
  {
   "cell_type": "code",
   "execution_count": 14,
   "metadata": {},
   "outputs": [],
   "source": [
    "def div(first,second):\n",
    "    try:\n",
    "        return first/second\n",
    "    except TypeError:\n",
    "        print(\"nhi Hoga!!!\")\n",
    "    except ZeroDivisionError:\n",
    "        print(\"infinite(∞) aayega!..\")    "
   ]
  },
  {
   "cell_type": "code",
   "execution_count": 18,
   "metadata": {},
   "outputs": [
    {
     "data": {
      "text/plain": [
       "16.0"
      ]
     },
     "execution_count": 18,
     "metadata": {},
     "output_type": "execute_result"
    }
   ],
   "source": [
    "div(2,1/8)"
   ]
  },
  {
   "cell_type": "code",
   "execution_count": 19,
   "metadata": {},
   "outputs": [],
   "source": [
    "def all():\n",
    "    try:\n",
    "        first,second=inputs()\n",
    "        a=add(first,second)\n",
    "        d=div(first,second)\n",
    "        return f\"addition is:{a},divisoin is{d}\"\n",
    "\n",
    "    except:\n",
    "        print(\"Kuch glt kr diya!\")    \n",
    "\n",
    "    else:\n",
    "        print('Kuch bhi nhi hua')\n",
    "\n",
    "    finally:\n",
    "        print(\"all fun  program\")\n",
    "\n",
    "    "
   ]
  },
  {
   "cell_type": "code",
   "execution_count": 20,
   "metadata": {},
   "outputs": [
    {
     "name": "stdout",
     "output_type": "stream",
     "text": [
      "Pls provide Valid Value\n",
      "all fun  program\n"
     ]
    },
    {
     "data": {
      "text/plain": [
       "'addition is:11,divisoin is1.2'"
      ]
     },
     "execution_count": 20,
     "metadata": {},
     "output_type": "execute_result"
    }
   ],
   "source": [
    "all()"
   ]
  },
  {
   "cell_type": "code",
   "execution_count": null,
   "metadata": {},
   "outputs": [],
   "source": []
  }
 ],
 "metadata": {
  "kernelspec": {
   "display_name": "base",
   "language": "python",
   "name": "python3"
  },
  "language_info": {
   "codemirror_mode": {
    "name": "ipython",
    "version": 3
   },
   "file_extension": ".py",
   "mimetype": "text/x-python",
   "name": "python",
   "nbconvert_exporter": "python",
   "pygments_lexer": "ipython3",
   "version": "3.12.7"
  }
 },
 "nbformat": 4,
 "nbformat_minor": 2
}
