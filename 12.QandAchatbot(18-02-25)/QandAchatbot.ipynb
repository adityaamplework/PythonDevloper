{
 "cells": [
  {
   "cell_type": "markdown",
   "metadata": {},
   "source": [
    "## API Setup"
   ]
  },
  {
   "cell_type": "code",
   "execution_count": 1,
   "metadata": {},
   "outputs": [],
   "source": [
    "import os\n",
    "from dotenv import load_dotenv\n",
    "load_dotenv()\n",
    "\n",
    "os.environ[\"GROQ_API_KEY\"]=os.getenv(\"GROQ_API_KEY\")\n",
    "os.environ[\"LANGCHAIN_API_KEY\"]=os.getenv(\"LANGCHAIN_API_KEY\")\n",
    "os.environ[\"LANGCHAIN_TRACING_V2\"]=\"true\"\n",
    "os.environ[\"LANGCHAIN_PROJECT\"]=os.getenv(\"LANGCHAIN_PROJECT\")"
   ]
  },
  {
   "cell_type": "code",
   "execution_count": 2,
   "metadata": {},
   "outputs": [
    {
     "name": "stderr",
     "output_type": "stream",
     "text": [
      "USER_AGENT environment variable not set, consider setting it to identify your requests.\n"
     ]
    }
   ],
   "source": [
    "from langchain_groq import ChatGroq\n",
    "from langchain_chroma import Chroma\n",
    "from langchain_community.document_loaders import WebBaseLoader\n",
    "from langchain_huggingface import HuggingFaceEmbeddings\n",
    "from langchain_text_splitters import RecursiveCharacterTextSplitter\n",
    "from langchain.chains import create_retrieval_chain\n",
    "from langchain.chains.combine_documents import create_stuff_documents_chain\n",
    "import bs4\n",
    "from langchain_community.chat_message_histories import ChatMessageHistory\n",
    "from langchain_core.chat_history import BaseChatMessageHistory\n",
    "from langchain_core.runnables.history import RunnableWithMessageHistory\n",
    "from langchain_core.messages import AIMessage,HumanMessage\n",
    "from langchain_core.prompts import ChatPromptTemplate, MessagesPlaceholder\n",
    "from langchain.chains import create_history_aware_retriever, create_retrieval_chain"
   ]
  },
  {
   "cell_type": "markdown",
   "metadata": {},
   "source": [
    "## Embedding Model"
   ]
  },
  {
   "cell_type": "code",
   "execution_count": 3,
   "metadata": {},
   "outputs": [],
   "source": [
    "embedding=HuggingFaceEmbeddings(model_name=\"all-MiniLM-L6-v2\")"
   ]
  },
  {
   "cell_type": "markdown",
   "metadata": {},
   "source": [
    "## LLM model"
   ]
  },
  {
   "cell_type": "code",
   "execution_count": null,
   "metadata": {},
   "outputs": [],
   "source": [
    "\n",
    "llm=ChatGroq(model_name=\"llama3-8b-8192\")"
   ]
  },
  {
   "cell_type": "markdown",
   "metadata": {},
   "source": [
    "## Data Loding"
   ]
  },
  {
   "cell_type": "code",
   "execution_count": 5,
   "metadata": {},
   "outputs": [],
   "source": [
    "\n",
    "loader=WebBaseLoader(\n",
    "    web_path=(\"https://www.amplework.com/\",),)"
   ]
  },
  {
   "cell_type": "code",
   "execution_count": 6,
   "metadata": {},
   "outputs": [],
   "source": [
    "data=loader.load()"
   ]
  },
  {
   "cell_type": "code",
   "execution_count": 44,
   "metadata": {},
   "outputs": [
    {
     "name": "stdout",
     "output_type": "stream",
     "text": [
      "[Document(metadata={'source': 'https://www.amplework.com/', 'title': 'Top AI Development Agency in USA | Expert AI Developers', 'description': 'Amplework Software, A top AI development agency, offers custom AI solutions & AI agent development by full-stack developers. Schedule a consultation today!', 'language': 'en-US'}, page_content=\"\\n\\n\\n\\n\\n\\n\\n\\n\\n\\n\\n\\n\\n\\n\\n\\n\\n\\n\\n\\n\\nTop AI Development Agency in USA | Expert AI Developers\\n\\n\\n\\n\\n\\n\\n\\n\\n\\n\\n\\n\\n\\n\\n\\n\\n\\n\\n\\n\\n\\n\\n\\n\\n\\n\\n\\n\\n\\n\\n\\n\\n\\n\\n\\n\\n\\n\\n\\n\\n\\n\\n\\n\\n\\n\\n\\n\\n\\n\\n\\n\\n\\n\\n\\n\\n\\n\\n\\n\\n\\n\\n\\n\\n \\n\\n\\n\\n\\n\\n\\n\\n\\n\\n\\n\\n\\n\\n\\n\\n\\n\\n\\n\\n\\n\\n\\n\\n\\n\\n\\nWho we are\\n\\n\\n\\n\\n\\nAmplework Software: Transforming Success with Ai\\nWe Specialize in delivering Ai-driven solutions that transform businesses, enhance processes, and drive innovation. Discover how our expertise can elevate your business to new heights.\\n\\nAbout Us\\nCareer\\nBlog\\nContact\\n \\n\\n\\nOur Achievements :  Delivering Success for Clients\\n\\n\\n30%\\nAverage Increase in Efficiency\\n\\n\\n50%\\nFaster MVP Development\\n\\n\\n70%\\nReduction in Manual Work\\n\\n\\n40%\\nImprovement in Customer Retention\\n\\n\\n99%\\nSuccess Rate in AI Model Development\\n\\n\\n30%\\nAverage Revenue Growth\\n\\n \\n \\n\\nServices\\n\\n\\n\\n\\n\\nExplore Our Services Our experts transforms your idea into a successful business by leveraging cutting-edge tech stacks and trends, ensuring a competitive edge.\\n\\n \\n\\n\\nAi / ML Consulting\\nAi Agents Development\\nAi Automation\\nAi Consulting\\nAi Integration\\nAi Model Training\\nAi Model Development\\nAl Solutions for Startups\\nAi PoC Development\\nAl-Powered Computer Vision\\n \\n\\n\\nDigital Transformation\\nLow Code / No Code\\nMinimum Viable Product\\nMobile App Development\\nWeb Design & Development\\nFull-Stack Development\\nBlockchain Development\\nProduct Design & Development\\nE-commerce App Development\\neLearning App Development\\n \\n\\n\\nEnterprise Solutions\\nCloud Solutions\\nDevOps Solutions\\nEnterprise Mobility\\nSecurity & Compliances\\nArchitecture Consulting\\nDatabase & API Services\\nOn-Demand App Development\\nSoftware Testing Solution\\nMaintenance & Support\\n \\n \\n\\nIndustry Solutions\\n\\n\\n\\n\\n\\nInnovative Ai Solutions for Every Industry At Amplework Software, we provide specialized Ai-driven solutions across multiple industries. Our expertise enables business to transform their operations, enhance efficiency, and achieve success in today’s digital world\\n\\nSchedule a Call\\nView Case Studies\\n \\n\\n\\nIndustries We ServeFintech\\nHealthcare\\nWellness\\nEcommerce\\nEdutech\\nTour & Travel\\nSocial Dating\\nInspection Service\\nSupply & Logistic\\nFood & Hyperlocal\\nJobs & Employment\\nFitness\\n \\n \\n\\nPartner With Us\\n\\n\\n\\n\\n\\nWork with Industry-Leading Experts At Amplework Software, we provide access to a wide range of technical expertise. Whether you need Ai/ML solutions, cloud architecture, or mobile app development, our experts are here to help you bring your vision to life with innovative technology solutions.\\n\\nSchedule a Call\\nView Case Studies\\n \\n\\n\\nHire Top TalentsAi Expert Developer\\nDevOps Engineer\\nData Expert\\nLow Code Developer\\nSalesforce Ai Developer\\nCloud Engineer\\nMachine Learning Engineer\\nCompliance Specialist\\nFull-Stack Developer\\n \\n \\n\\nCase Studies\\n\\n\\n\\n\\n\\nReal Results with Ai-Driven Solutions Explore how Amplework Software has helped businesses across industries harness the power of Ai and digital transformation to achieve measurable success.\\n\\nSchedule a Call\\nView Case Studies\\n \\n\\n\\nOur Success StoriesAi Solutions\\nMVP/POC Development\\nDigital Transformation\\nCloud & Data Solutions\\nCompliance & Security\\nView All\\n \\n \\n\\nGet a free quote \\n\\n\\n\\n\\n\\n\\n\\n\\n\\n\\n                        Top Ai Development Agency                    \\n\\n                        Empowering SMBs with                        \\n\\n                            Ai Transformation\\n\\n\\n                        Facing inefficiencies and high costs? Let Amplework help you streamline tasks and make smarter decisions with tailored Ai solutions for faster growth.                    \\n\\n\\n                            Transform Your Business with Ai \\n\\n\\n\\n                        Schedule Your Free Ai Consultation Today!                    \\n\\n\\n\\n\\n\\n\\n\\nConcerned About Ai Adoption?\\n\\nDiscover how it can simplify\\nand grow your business.\\n\\n\\n\\n\\n                        Discover how Ai can fit seamlessly into your business, addressing your challenges and helping you stay competitive with real-world solutions.                    \\n\\n\\n\\n\\n\\n\\n\\n\\n\\n\\n\\n\\n\\n\\n\\n\\n\\n\\n\\n\\nAi Consulting\\n\\n\\n\\n\\n                                                                Guiding businesses in Ai strategy, integration, and deployment, ensuring successful adoption and business transformation.                                                            \\n\\n\\n\\n\\n\\n\\n\\nAi Proof of Concept (PoC)\\n\\n\\n\\n\\n                                                                Creating small-scale prototypes to validate Ai solutions for specific business problems, allowing companies to assess feasibility and potential ROI before full-scale implementation.                                                            \\n\\n\\n\\n\\n\\n\\n\\nGenerative Ai Solutions\\n\\n\\n\\n\\n                                                                Utilizing Ai to generate content, such as text, images, and videos, driving innovation in content creation and creative workflows.                                                            \\n\\n\\n\\n\\n\\n\\n\\n\\n\\n\\n\\nAi Integration & Deployment\\n\\n\\n\\n\\n                                                                Seamlessly integrating Ai systems with existing business infrastructures and deploying them at scale to ensure smooth operation and business continuity.                                                            \\n\\n\\n\\n\\n\\n\\n\\nAi Model Development\\n\\n\\n\\n\\n                                                                Creating custom Ai models like machine learning, NLP, and computer vision to address specific business challenges.                                                            \\n\\n\\n\\n\\n\\n\\n\\nAi-Powered Automation Solutions\\n\\n\\n\\n\\n                                                                Implementing Ai-driven automation for tasks such as robotic process automation (RPA), intelligent workflows, and operational decision-making.                                                            \\n\\n\\n\\n\\n\\n\\n\\n\\n\\n\\n\\nAi Model Training & Optimization\\n\\n\\n\\n\\n                                                                Enhancing model performance through training on business-specific data and refining algorithms for better accuracy.                                                            \\n\\n\\n\\n\\n\\n\\n\\nComputer Vision Solutions\\n\\n\\n\\n\\n                                                                Developing Ai systems for image recognition, object detection, and video analytics for industries like retail, healthcare, and security.                                                            \\n\\n\\n\\n\\n\\n\\n\\nNatural Language Processing (NLP)\\n\\n\\n\\n\\n                                                                Creating Ai models for language understanding, translation, and sentiment analysis, widely used in customer service, finance, and healthcare.                                                            \\n\\n\\n\\n\\n\\n\\n\\n\\n\\n\\n\\n\\n\\n\\n                        Our Mission\\nCustom AI Software Solutions Forging New Business Paths\\n\\n\\n\\nAs a prominent AI development agency, we fuel creative, innovative, and productive mobile app developers for startups and enterprises with custom AI solutions that expand across every growth stage of the marketplace. From generative AI to digital transformation, we embrace the tech trends shaping the current landscape.\\n\\n\\n\\n\\n\\n\\nAi & ML for Small\\n& Medium Businesses\\n\\n\\n\\n\\n\\n\\n\\n\\n\\n\\n\\nDigital\\nTransformation\\n\\n\\n\\n\\n\\n\\n\\n\\n\\n\\n\\nEnterprise Solution\\n\\n\\n\\n\\n\\n\\n\\n\\n\\n\\n\\nLow Code / No Code\\nDevelopment\\n\\n\\n\\n\\n\\n\\n\\n\\n\\n\\n\\nSoftware Maintenance\\n& Support\\n\\n\\n\\n\\n\\n\\n\\n\\n\\n\\n\\nCompliances & Security\\nManagement\\n\\n\\n\\n\\n\\n\\n\\n\\n\\n\\n\\n\\n\\nOur Vision\\nPioneering the Future of Digital Excellence\\n\\n\\n\\nDive into our world of innovations, where each project tells a story of industry transformation and breakthrough success. Discover the power of strategic digital solutions tailored to achieve remarkable outcomes with our AI development agency expertise.\\n\\n\\n\\n\\n\\n\\n\\n\\n\\n\\nRecent Work\\n\\nVast Bank\\n\\n\\nExplore digital banking assets using a mobile banking app invented from traditional banking attire, that merges heritage with innovations for a personal and user-centric experience.\\n\\n\\nStats\\n\\n\\n20K+\\nDownloads\\n\\n\\n4.2/5\\nRating\\n\\n\\n\\n\\nAvailable on\\n\\n\\n\\n\\n\\n\\n\\n\\n\\n\\n\\n\\n\\n\\nRecent Work\\n\\nSweatcoin\\n\\n\\nTrack steps in an innovative manner, Where your activity turns into a valuable gadget currency. That develops a forging connection between your workout and valuable rewards.\\n\\n\\nStats\\n\\n\\n50M+\\nDownloads\\n\\n\\n4.6/5\\nRating\\n\\n\\n\\n\\nAvailable on\\n\\n\\n\\n\\n\\n\\n\\n\\n\\n\\n\\n\\n\\n\\nRecent Work\\n\\nSoflete\\n\\n\\nEmpower your grind with the boosted energy supplements, top training assets, and grinding gears. Become a health-empowered version of yourself, more powerful & sharp focused.\\n\\n\\nStats\\n\\n\\n10K+\\nDownloads\\n\\n\\n4.1/5\\nRating\\n\\n\\n\\n\\nAvailable on\\n\\n\\n\\n\\n\\n\\n\\n\\n\\n\\n\\n\\n\\n\\nRecent Work\\n\\nSH Connect\\n\\n\\nExplore patient-centered care in an proper way with this unique app for health supplies & services Specifically for healthcare professionals, unlock a world to enrich your practice.\\n\\n\\nStats\\n\\n\\n10K+\\nDownloads\\n\\n\\n4.5/5\\nRating\\n\\n\\n\\n\\nAvailable on\\n\\n\\n\\n\\n\\n\\n\\n\\n\\n\\n\\n\\n\\n\\nRecent Work\\n\\nuLesson\\n\\n\\nStart your school days within an advanced technology environment that results in advanced grades with vast video libraries, quizzes, and personalized exams.\\n\\n\\nStats\\n\\n\\n1M+\\nDownloads\\n\\n\\n4.7/5\\nRating\\n\\n\\n\\n\\nAvailable on\\n\\n\\n\\n\\n\\n\\n\\n\\n\\n\\n\\n\\n\\n\\n\\n\\n\\n\\n\\n\\n\\n\\n\\n\\n\\n\\n\\n\\n \\n\\n\\n\\n\\n\\n\\n\\n\\n\\n\\nGlobal Awards & Eminence\\n\\n\\nAmplework has translated ambitions into actions, attaining\\nprestigious awards\\nand eminence bestowed by  clutch.co As we targeted to become\\nthe best AI-driven app development company.\\n\\n\\n\\n\\n\\n\\n\\n\\n\\n\\n\\nTop Software\\nDevelopers\\n\\n2024\\n\\n\\n\\n\\n\\nTop SAAS Development Company\\n\\n2024\\n\\n\\n\\n\\n\\nTop Ai Development Company\\n\\n2024\\n\\n\\n\\n\\n\\nTop MVP Development Company\\n\\n2024\\n\\n\\n\\n\\n\\n\\n\\n\\n\\n\\n\\n\\n\\n\\n                            Industries\\n\\n\\nHarnessing Expertise\\nAcross Industries for Tailored Solutions\\n\\n\\n\\n                        With deep expertise in AI technologies and a keen understanding of industry-specific needs, we drive innovation and success for our clients, leveraging advanced AI solutions to exceed expectations every time.                    \\n\\n\\n\\n\\n\\n\\n\\n\\n\\n\\nFintech\\n\\n\\n\\n\\n\\n\\n\\n\\n\\n\\n\\nHealthcare\\n\\n\\n\\n\\n\\n\\n\\n\\n\\n\\n\\nFitness\\n\\n\\n\\n\\n\\n\\n\\n\\n\\n\\n\\nLogistic\\n\\n\\n\\n\\n\\n\\n\\n\\n\\n\\n\\ne-Commerce\\n\\n\\n\\n\\n\\n\\n\\n\\n\\n\\n\\nFood & Hyperlocal\\n\\n\\n\\n\\n\\n\\n\\n\\n\\n\\n\\nTravel\\n\\n\\n\\n\\n\\n\\n\\n\\n\\n\\n\\nEducation\\n\\n\\n\\n\\n\\n\\n\\n\\n\\n\\n\\nHome Inspection\\n\\n\\n\\n\\n\\n\\n\\n\\n\\n\\n\\nWellness\\n\\n\\n\\n\\n\\n\\n\\n\\n\\n\\n\\nSocial & Dating\\n\\n\\n\\n\\n\\n\\n\\n\\n\\n\\n\\nJob & Employment\\n\\n\\n\\n\\n\\n\\n\\n\\n\\n\\n\\n\\n\\n\\n\\nBrands we’ve collaborated with\\n\\n\\n\\n\\n\\n\\n\\n\\n\\n\\n\\n\\n\\n\\n\\n\\n\\n\\n\\n\\n\\n\\n\\n\\n\\n\\n\\n\\n\\n\\n\\n\\n\\n\\n\\n\\n\\n\\n\\n\\n\\n\\n\\n\\n\\n\\n\\n\\n\\n\\n\\n\\n\\n\\n\\n\\n\\n\\n\\n\\n\\n\\n\\n\\n\\n\\n\\n\\n\\n\\n\\nOur Growth Journey As A Mobile App Development Company\\n\\n\\n\\n\\nFast & Accurate\\n\\nI'm very satisfied with their performance. Amplework was very good at creating\\n                schedules with milestones, and keeping me updated on them. They completed every task at the\\n                promised time.\\n- John Washing\\n\\n\\n\\n\\n\\n\\n\\n\\n\\n\\n\\n\\n\\n\\n\\n\\n\\n\\n\\n\\n\\n\\n\\n\\n\\n\\nFrequently Asked Questions\\n\\n\\n\\n\\n\\n\\n\\n\\nTop Ai Agency\\n\\nAs a Top AI Development Agency, we deliver custom AI solutions that enhance decision-making, automate workflows, and drive business growth. Our expert team helps you harness the power of AI to solve real-world challenges and foster innovation.\\n\\n\\n\\n\\n\\n\\n\\n\\nWhat Ai development services do you offer?\\n\\n\\n\\n\\n                                                We specialize in custom AI solutions and AI agent development, including machine learning, natural language processing, predictive analytics, AI-powered automation, generative AI, large language models, etc.                                            \\n\\n\\n\\n\\n\\nHow can Ai help improve my business operations?\\n\\n\\n\\n\\n                                                Ai can automate repetitive tasks, enhance decision-making with data-driven insights, and improve efficiency across various business functions.                                            \\n\\n\\n\\n\\n\\nDo you offer Ai integration with existing systems?\\n\\n\\n\\n\\n                                                Yes, we seamlessly integrate Ai technologies into your current infrastructure to ensure compatibility and enhance operational efficiency.                                            \\n\\n\\n\\n\\n\\nWhat industries do you serve with Ai solutions?\\n\\n\\n\\n\\n                                                We work across various sectors, including finance, healthcare, retail, manufacturing, and more, tailoring Ai solutions to each industry’s unique needs.                                            \\n\\n\\n\\n\\n\\nHow do you ensure the success of Ai projects?\\n\\n\\n\\n\\n                                                We follow a comprehensive approach, from understanding your business challenges to delivering scalable, high-quality Ai solutions, backed by ongoing support.                                            \\n\\n\\n\\n\\n\\n\\n\\n\\n\\n\\n\\n\\n\\nTech Insights\\nGuiding Current Trends, Shaping Future Innovations\\n\\n\\n\\nWe think to bring out the best in terms of quality, We leverage our technology, employees, and extensive networks to tackle the software development market's most significant challenges. We celebrate words with immense presence of knowledge and significance.\\n\\n\\n\\n\\n\\n\\n\\n\\n\\nArtificial intelligence \\n2025-02-14\\n\\n\\n\\n                                    Automating Medical Coding: How NLP & AI Reduce Billing Errors by 40%                                \\n\\n\\n\\n\\n\\n\\n\\n\\n\\n\\n\\nSecurity Compliance \\n2025-02-13\\n\\n\\n\\n                                    Top Compliance Technology Solutions and Tools for 2025                                \\n\\n\\n\\n\\n\\n\\n\\n\\n\\n\\n\\nArtificial intelligence \\n2025-02-12\\n\\n\\n\\n                                    How to Train AI Models on Patient Data Without Violating HIPAA Using Federated Learning                                \\n\\n\\n\\n\\n\\n\\n                    Read All Post                \\n\\n\\n\\n\\n\\n\\n\\nLooking to leverage AI for your next project?\\nOur expert AI development teams are here to solve your most complex challenges with cutting-edge solutions tailored to your needs. Whether you require part-time, full-time, or hourly AI experts, we’re ready to help you innovate.\\n\\n\\n\\n \\nPart Time\\n\\n\\n\\n \\n Full Time\\n\\n\\n\\n \\nHourly\\n\\n\\nEXPLORE MORE\\n\\n\\n\\n\\nAI Solutions for Startups to Disrupt the Market\\nWe empower startups to leverage AI for rapid scaling and competitive advantage. From concept to market, our AI solutions help turn your vision into reality, driving innovation and growth.\\n\\n\\n\\n \\nAccessibility\\n\\n\\n\\n \\nAdaptability\\n\\n\\n\\n \\nScalability\\n\\n\\nEXPLORE MORE\\n\\n\\n\\n\\n\\n\\n\\n\\n\\n\\n\\n\\n \\n\\n\\n\\n\\n \\n                                        ISO-27001Software Security\\n\\n\\n\\n\\n \\n                                        Dun & BradstreetVerified\\n\\n\\n\\n\\n \\n                                        Google CloudPartner\\n\\n\\n\\n\\n \\n                                        AWS ConsultingPartner\\n\\n\\n\\n\\n\\n\\n\\n\\n\\n Development Services \\nMVP Development\\nAi Consulting Services\\nAi Automation Services\\nAi Agents Development\\nAI Model Development\\nLow Code / No Code\\nFull-Stack Development\\nSecurity Compliances\\nSoftware Testing\\nWeb & Mobile Development\\n \\n\\n Industry We Serve \\nFintech Solutions\\nHealthcare Solutions\\nFood & Hyperlocal\\nEduTech Solutions\\nWellness Solutions\\nInspection Services\\nSocial Media Solutions\\nTours & Travels Solution\\nEcommerce & Marketplace\\nSupply Chain & Logistics\\n \\n\\n Hire Experts \\nHire Ai Developer\\nHire ML Engineers\\nHire MVP Developer\\nHire Data Specialists\\nHire Cloud Engineer\\nHire DevOps Engineer\\nHire Top Low Code Developers\\nHire Compliance Specialist\\nHire Full-Stack Developer\\nHire Salesforce Ai Developers\\n \\n\\n\\nContact Us\\n\\n\\n\\n                                            (+1) 334-230-5010                                        \\n\\n\\n\\n                                            (+44) 208-638-7939                                        \\n\\n\\n\\n                                            (+91) 963-696-2228                                        \\n\\n\\n\\nCareer :\\n\\n\\n\\n \\n                                    hr@amplework.com                                \\n\\n\\n \\n                                    +91 9509380026                                \\n\\n\\n\\n\\n\\n\\n\\n\\n\\n\\n\\n\\n\\n\\n\\n\\n\\n\\n\\n\\n\\n\\n\\n\\n\\n\\nAmplework © 2025 | All Right Reserved \\xa0 \\xa0\\n \\n\\n\\n\\nAbout Us\\nCareer\\nBlog\\nContact Us\\nPolicies\\nSite Map\\n \\n\\n\\n\\n\\n\\n\\n\\n\\n\\n\\n\\n\\n\\n\\n\\n\\n\\n\\n\\n\\n\\n\\n\\n\\n\\n\\n\\n\\n\\n\\n\\n\\n\\n\\n\")]\n"
     ]
    }
   ],
   "source": [
    "print(data)"
   ]
  },
  {
   "cell_type": "markdown",
   "metadata": {},
   "source": [
    "Dividing Chunks"
   ]
  },
  {
   "cell_type": "code",
   "execution_count": 7,
   "metadata": {},
   "outputs": [],
   "source": [
    "text_split=RecursiveCharacterTextSplitter(chunk_size=500,chunk_overlap=50)\n",
    "docs=text_split.split_documents(data)"
   ]
  },
  {
   "cell_type": "markdown",
   "metadata": {},
   "source": [
    "## Store vectore"
   ]
  },
  {
   "cell_type": "code",
   "execution_count": 8,
   "metadata": {},
   "outputs": [],
   "source": [
    "db=Chroma.from_documents(documents=docs,embedding=embedding)\n"
   ]
  },
  {
   "cell_type": "code",
   "execution_count": 9,
   "metadata": {},
   "outputs": [],
   "source": [
    "retriver=db.as_retriever()"
   ]
  },
  {
   "cell_type": "markdown",
   "metadata": {},
   "source": [
    "## Prompt"
   ]
  },
  {
   "cell_type": "markdown",
   "metadata": {},
   "source": [
    "### Adding chat History"
   ]
  },
  {
   "cell_type": "code",
   "execution_count": 45,
   "metadata": {},
   "outputs": [],
   "source": [
    "store={}\n",
    "contextualize_q_system_prompt=(\n",
    "    \"You are an AI assistant for AmpleWork soft. pvt. ltd.. Your job is to reframe user queries that may reference previous context in the conversation. Given a chat history and the latest user question, rewrite the question in a way that makes it self-contained and understandable without needing the chat history.\"\n",
    "\n",
    "\"Do NOT answer the question, only rephrase it. If the question is already clear on its own, return it as is.\"\n",
    "\n",
    "            \"Given a chat history and the latest user question\"\n",
    "            \"which might reference context in the chat history, \"\n",
    "            \"formulate a standalone question which can be understood \"\n",
    "            \"without the chat history. Do NOT answer the question, \"\n",
    "            \"just reformulate it if needed and otherwise return it as is.\"\n",
    "        )\n",
    "contextualize_q_prompt = ChatPromptTemplate.from_messages(\n",
    "                [\n",
    "                    (\"system\", contextualize_q_system_prompt),\n",
    "                    MessagesPlaceholder(\"chat_history\"),\n",
    "                    (\"human\", \"{input}\"),\n",
    "                ]\n",
    "            )\n",
    "\n",
    "history_aware_retriever=create_history_aware_retriever(llm,retriver,contextualize_q_prompt)\n",
    "\n",
    "        ## Answer question\n",
    "\n",
    "        # Answer question\n",
    "system_prompt = (\n",
    "   \"\"\"You are an AI assistant for AmpleWork soft. pvt. ltd., dedicated to helping customers with their queries. Use the provided context from the company knowledge base to answer the question accurately and concisely. \n",
    "\n",
    "- If you don't know the answer, say 'I don’t know' instead of making something up.\n",
    "- Keep responses polite, professional, and under three sentences.\n",
    "- If necessary, guide the customer on the next steps they should take.\n",
    "- Use friendly and clear language to enhance customer satisfaction.\n",
    "\n",
    "Relevant company context:\n",
    "{context}\"\"\"\n",
    "\n",
    "                \"You are an Amplework soft. pvt.ltd. assistant for Help to customer resolving query. \"\n",
    "                \"Use the following pieces of retrieved context to answer \"\n",
    "                \"the question. If you don't know the answer, say that you \"\n",
    "                \"don't know. Use three sentences maximum and keep the \"\n",
    "                \"answer concise.\"\n",
    "                \"\\n\\n\"\n",
    "                \"{context}\"\n",
    "            )\n",
    "qa_prompt = ChatPromptTemplate.from_messages(\n",
    "                [\n",
    "                    (\"system\", system_prompt),\n",
    "                    MessagesPlaceholder(\"chat_history\"),\n",
    "                    (\"human\", \"{input}\"),\n",
    "                ]\n",
    "            )\n",
    "        \n",
    "question_answer_chain=create_stuff_documents_chain(llm,qa_prompt)\n",
    "rag_chain=create_retrieval_chain(history_aware_retriever,question_answer_chain)\n",
    "def get_session_history(session_id:str)->BaseChatMessageHistory:\n",
    "    if session_id not in store:\n",
    "        store[session_id]=ChatMessageHistory()\n",
    "        \n",
    "    return store[session_id]    \n",
    "\n",
    "\n",
    "conversational_rag_chain=RunnableWithMessageHistory(\n",
    "            rag_chain,get_session_history,\n",
    "            input_messages_key=\"input\",\n",
    "            history_messages_key=\"chat_history\",\n",
    "            output_messages_key=\"answer\"\n",
    "        )"
   ]
  },
  {
   "cell_type": "code",
   "execution_count": 46,
   "metadata": {},
   "outputs": [],
   "source": [
    "response = conversational_rag_chain.invoke(\n",
    "    {\"input\": \"who are you\"},\n",
    "    config={\"configurable\": {\"session_id\": \"chat1\"}}\n",
    ")"
   ]
  },
  {
   "cell_type": "code",
   "execution_count": 47,
   "metadata": {},
   "outputs": [
    {
     "data": {
      "text/plain": [
       "\"Hello! I am an AI assistant for AmpleWork soft. pvt.ltd., here to help you with any queries or concerns you may have. I'm dedicated to providing accurate and helpful information to ensure a smooth and satisfying experience for our customers.\""
      ]
     },
     "execution_count": 47,
     "metadata": {},
     "output_type": "execute_result"
    }
   ],
   "source": [
    "response['answer']"
   ]
  },
  {
   "cell_type": "code",
   "execution_count": 48,
   "metadata": {},
   "outputs": [
    {
     "data": {
      "text/plain": [
       "\"According to the company's website, AmpleWork soft. pvt.ltd. has multiple location contact numbers:\\n\\n* (+1) 334-230-5010 (for North America)\\n* (+44) 208-638-7939 (for the UK)\\n* (+91) 963-696-2228 (for India)\\n\\nPlease feel free to reach out to any of these numbers for further assistance or inquiries.\""
      ]
     },
     "execution_count": 48,
     "metadata": {},
     "output_type": "execute_result"
    }
   ],
   "source": [
    "response = conversational_rag_chain.invoke(\n",
    "    {\"input\": \"where compenay location\"},\n",
    "    config={\"configurable\": {\"session_id\": \"chat1\"}}\n",
    ")\n",
    "response['answer']"
   ]
  },
  {
   "cell_type": "code",
   "execution_count": 49,
   "metadata": {},
   "outputs": [
    {
     "data": {
      "text/plain": [
       "\"Nice to meet you, Aditya! I'm here to help you with any questions or concerns you may have about AmpleWork soft. pvt.ltd. or our services. How can I assist you today?\""
      ]
     },
     "execution_count": 49,
     "metadata": {},
     "output_type": "execute_result"
    }
   ],
   "source": [
    "response = conversational_rag_chain.invoke(\n",
    "    {\"input\": \"my name is aditya\"},\n",
    "    config={\"configurable\": {\"session_id\": \"chat1\"}}\n",
    ")\n",
    "response['answer']"
   ]
  },
  {
   "cell_type": "code",
   "execution_count": 50,
   "metadata": {},
   "outputs": [
    {
     "name": "stdout",
     "output_type": "stream",
     "text": [
      "Aditya, you can contact AmpleWork soft. pvt.ltd. through the following numbers or email:\n",
      "\n",
      "* Phone numbers: (+1) 334-230-5010 (for North America), (+44) 208-638-7939 (for the UK), or (+91) 963-696-2228 (for India)\n",
      "* Email: hr@amplework.com (for Human Resources inquiries) or the general email address available on our website.\n",
      "\n",
      "Please feel free to reach out to us through whichever method is most convenient for you.\n"
     ]
    }
   ],
   "source": [
    "response = conversational_rag_chain.invoke(\n",
    "    {\"input\": \"how i contant it\"},\n",
    "    config={\"configurable\": {\"session_id\": \"chat1\"}}\n",
    ")\n",
    "print(response['answer'])"
   ]
  },
  {
   "cell_type": "code",
   "execution_count": 51,
   "metadata": {},
   "outputs": [
    {
     "name": "stdout",
     "output_type": "stream",
     "text": [
      "Aditya! Java is a high-level, object-oriented programming language developed by Sun Microsystems (now owned by Oracle Corporation). It's widely used for developing cross-platform applications, including Android apps, web applications, and enterprise software.\n",
      "\n",
      "Java is known for its platform independence, meaning that programs written in Java can run on any device that has a Java Virtual Machine (JVM) installed, without modification. This makes Java a popular choice for developers who need to create applications that can run on multiple platforms.\n",
      "\n",
      "At AmpleWork soft. pvt.ltd., we have expertise in Java development services, including Java consulting, Java development, and Java testing. If you have any specific questions or requirements related to Java, feel free to ask!\n"
     ]
    }
   ],
   "source": [
    "response = conversational_rag_chain.invoke(\n",
    "    {\"input\": \"what is java\"},\n",
    "    config={\"configurable\": {\"session_id\": \"chat1\"}}\n",
    ")\n",
    "print(response['answer'])"
   ]
  },
  {
   "cell_type": "code",
   "execution_count": 52,
   "metadata": {},
   "outputs": [
    {
     "name": "stdout",
     "output_type": "stream",
     "text": [
      "Aditya, I'm not aware of the CEO's information as it's not publicly available on our website. However, I can suggest checking our About Us page or contacting our HR department (hr@amplework.com) for more information on our leadership team.\n"
     ]
    }
   ],
   "source": [
    "response = conversational_rag_chain.invoke(\n",
    "    {\"input\": \"who is ceo?\"},\n",
    "    config={\"configurable\": {\"session_id\": \"chat1\"}}\n",
    ")\n",
    "print(response['answer'])"
   ]
  },
  {
   "cell_type": "code",
   "execution_count": null,
   "metadata": {},
   "outputs": [],
   "source": []
  }
 ],
 "metadata": {
  "kernelspec": {
   "display_name": "base",
   "language": "python",
   "name": "python3"
  },
  "language_info": {
   "codemirror_mode": {
    "name": "ipython",
    "version": 3
   },
   "file_extension": ".py",
   "mimetype": "text/x-python",
   "name": "python",
   "nbconvert_exporter": "python",
   "pygments_lexer": "ipython3",
   "version": "3.12.3"
  }
 },
 "nbformat": 4,
 "nbformat_minor": 2
}
