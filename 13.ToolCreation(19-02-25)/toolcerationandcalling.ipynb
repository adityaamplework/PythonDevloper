{
 "cells": [
  {
   "cell_type": "markdown",
   "metadata": {},
   "source": [
    "### Creating tools from functions"
   ]
  },
  {
   "cell_type": "code",
   "execution_count": 1,
   "metadata": {},
   "outputs": [
    {
     "name": "stdout",
     "output_type": "stream",
     "text": [
      "Result: 84\n"
     ]
    }
   ],
   "source": [
    "from langchain.tools import tool\n",
    "import numpy as np\n",
    "\n",
    "@tool\n",
    "def addition(numbers: list[int]) -> int:\n",
    "    \"\"\"\n",
    "    Description: Adds multiple numbers.\n",
    "    Accepts a list of integers.\n",
    "    \"\"\"\n",
    "    return np.sum(numbers)\n",
    "\n",
    "# Correct invocation\n",
    "result = addition.invoke({\"numbers\": [1, 23, 4, 56,]})  \n",
    "print(\"Result:\", result)\n"
   ]
  },
  {
   "cell_type": "markdown",
   "metadata": {},
   "source": [
    "### Creating tools from Runnables"
   ]
  },
  {
   "cell_type": "code",
   "execution_count": 2,
   "metadata": {},
   "outputs": [
    {
     "data": {
      "text/plain": [
       "84"
      ]
     },
     "execution_count": 2,
     "metadata": {},
     "output_type": "execute_result"
    }
   ],
   "source": [
    "from langchain.schema.runnable import RunnableLambda\n",
    "def addition(numbers: list[int]) -> int:\n",
    "    \"\"\"\n",
    "    Description: Adds multiple numbers.\n",
    "    Accepts a list of integers.\n",
    "    \"\"\"\n",
    "    return np.sum(numbers)\n",
    "\n",
    "runnable_with_addition=RunnableLambda(addition)\n",
    "\n",
    "\n",
    "\n",
    "\n",
    "runnable_with_addition.invoke([1, 23, 4, 56,])  "
   ]
  },
  {
   "cell_type": "markdown",
   "metadata": {},
   "source": [
    "### Subclass BaseTool"
   ]
  },
  {
   "cell_type": "code",
   "execution_count": 5,
   "metadata": {},
   "outputs": [
    {
     "name": "stderr",
     "output_type": "stream",
     "text": [
      "C:\\Users\\Dell\\AppData\\Local\\Temp\\ipykernel_1464\\1094450617.py:15: LangChainBetaWarning: This API is in beta and may change in the future.\n",
      "  as_tool = chain.as_tool(\n"
     ]
    },
    {
     "data": {
      "text/plain": [
       "'HI my name is Aditya.'"
      ]
     },
     "execution_count": 5,
     "metadata": {},
     "output_type": "execute_result"
    }
   ],
   "source": [
    "from langchain_core.language_models import GenericFakeChatModel\n",
    "from langchain_core.output_parsers import StrOutputParser\n",
    "from langchain_core.prompts import ChatPromptTemplate\n",
    "\n",
    "\n",
    "prompt = ChatPromptTemplate.from_messages(\n",
    "    [(\"human\", \"Hello. Please respond in the style of {answer_style}.\")]\n",
    ")\n",
    "\n",
    "# Placeholder LLM\n",
    "llm = GenericFakeChatModel(messages=iter([\"HI my name is Aditya.\"]))\n",
    "\n",
    "chain = prompt | llm | StrOutputParser()\n",
    "\n",
    "as_tool = chain.as_tool(\n",
    "    name=\"Style responder\", description=\"Description of when to use tool.\"\n",
    ")\n",
    "result = as_tool.invoke({'answer_style': 'casual'})\n",
    "result"
   ]
  },
  {
   "cell_type": "code",
   "execution_count": 79,
   "metadata": {},
   "outputs": [
    {
     "name": "stdout",
     "output_type": "stream",
     "text": [
      "content='' additional_kwargs={'tool_calls': [{'id': 'call_etcb', 'function': {'arguments': '{\"a\":1,\"b\":1}', 'name': 'multiply'}, 'type': 'function'}]} response_metadata={'token_usage': {'completion_tokens': 48, 'prompt_tokens': 933, 'total_tokens': 981, 'completion_time': 0.139780547, 'prompt_time': 0.059468326, 'queue_time': 0.020157193000000004, 'total_time': 0.199248873}, 'model_name': 'llama3-70b-8192', 'system_fingerprint': 'fp_753a4aecf6', 'finish_reason': 'tool_calls', 'logprobs': None} id='run-47d83eda-1a84-4b30-8d5c-fdd8fffc5dcd-0' tool_calls=[{'name': 'multiply', 'args': {'a': 1, 'b': 1}, 'id': 'call_etcb', 'type': 'tool_call'}] usage_metadata={'input_tokens': 933, 'output_tokens': 48, 'total_tokens': 981}\n"
     ]
    }
   ],
   "source": [
    "from langchain_groq import ChatGroq\n",
    "from langchain.tools import tool\n",
    "from langchain.agents import AgentType\n",
    "\n",
    "llm=ChatGroq(model_name=\"llama3-70b-8192\")\n",
    "import numpy as np\n",
    "from langchain.tools import tool\n",
    "\n",
    "\n",
    "@tool\n",
    "def multiply(a: int, b: int) -> int:\n",
    "    \"\"\"Multiply a and b.\"\"\"\n",
    "    return a * b\n",
    "\n",
    "@tool\n",
    "def query():\n",
    "    \"\"\"call this tool to handle other queries\"\"\"\n",
    "    return \"hello\"\n",
    "\n",
    "tools = [multiply]  \n",
    "\n",
    "llm_bind_tools=llm.bind_tools(tools)\n",
    "\n",
    "from langchain_core.messages import HumanMessage, SystemMessage\n",
    "messages = [\n",
    "    SystemMessage(\n",
    "        content=\"do not answer by yourself. always go to **tools\"\n",
    "    ),\n",
    "    HumanMessage(\n",
    "        content= \"waht is apple\"\n",
    "    )\n",
    "]\n",
    "\n",
    "print(llm_bind_tools.invoke(messages))\n",
    "\n"
   ]
  },
  {
   "cell_type": "code",
   "execution_count": 13,
   "metadata": {},
   "outputs": [
    {
     "name": "stdout",
     "output_type": "stream",
     "text": [
      "content='' additional_kwargs={'tool_calls': [{'id': 'call_zz0x', 'function': {'arguments': '{\"numbers\":[\"5\",\"7\",\"6\"]}', 'name': 'addition'}, 'type': 'function'}]} response_metadata={'token_usage': {'completion_tokens': 72, 'prompt_tokens': 1298, 'total_tokens': 1370, 'completion_time': 0.06, 'prompt_time': 0.252752553, 'queue_time': 0.022899117999999996, 'total_time': 0.312752553}, 'model_name': 'llama3-8b-8192', 'system_fingerprint': 'fp_6a6771ae9c', 'finish_reason': 'tool_calls', 'logprobs': None} id='run-c2deea12-9c85-4447-b828-08e5a5a78077-0' tool_calls=[{'name': 'addition', 'args': {'numbers': ['5', '7', '6']}, 'id': 'call_zz0x', 'type': 'tool_call'}] usage_metadata={'input_tokens': 1298, 'output_tokens': 72, 'total_tokens': 1370}\n"
     ]
    }
   ],
   "source": [
    "print(llm_bind.invoke(\"add five,seven and six and also multi\"))"
   ]
  },
  {
   "cell_type": "code",
   "execution_count": 5,
   "metadata": {},
   "outputs": [
    {
     "name": "stdout",
     "output_type": "stream",
     "text": [
      "Let's add 5, 7, and 6:\n",
      "\n",
      "5 + 7 = 12\n",
      "12 + 6 = 18\n",
      "\n",
      "Now, let's multiply 5, 7, and 6:\n",
      "\n",
      "5 × 7 = 35\n",
      "35 × 6 = 210\n",
      "\n",
      "So, the results are:\n",
      "\n",
      "* The sum is 18\n",
      "* The product is 210\n"
     ]
    }
   ],
   "source": [
    "print(llm.invoke(\"add five,seven and six and also multiply\").content)"
   ]
  },
  {
   "cell_type": "markdown",
   "metadata": {},
   "source": [
    "## React Agent Implementaion Using Langchain"
   ]
  },
  {
   "cell_type": "code",
   "execution_count": 131,
   "metadata": {},
   "outputs": [],
   "source": [
    "from langchain_groq import ChatGroq\n",
    "from langchain.agents import AgentExecutor, create_react_agent\n",
    "from langchain.tools import tool\n",
    "from langchain import hub\n",
    "import re\n",
    "\n",
    "\n",
    "model = ChatGroq(model_name=\"llama3-70b-8192\")"
   ]
  },
  {
   "cell_type": "code",
   "execution_count": 145,
   "metadata": {},
   "outputs": [],
   "source": [
    "@tool\n",
    "def extract_numbers_from_text(text: str) -> str:\n",
    "    \"\"\"Extracts numbers from user input using LLM.\"\"\"\n",
    "    prompt = f\"Extract and return only the numerical values from the following text as space-separated numbers: '{text}'. If words represent numbers, convert them.\"\n",
    "    response = model.invoke(prompt)\n",
    "    return response.content.strip()"
   ]
  },
  {
   "cell_type": "code",
   "execution_count": 146,
   "metadata": {},
   "outputs": [],
   "source": [
    "@tool\n",
    "def multiply_numbers(input_text: str) -> str:\n",
    "    \"\"\"Uses LLM to extract numbers and perform multiplication.\"\"\"\n",
    "    \n",
    "    # Use LLM to extract numbers from the input\n",
    "    extracted_numbers = extract_numbers_from_text(input_text)\n",
    "    \n",
    "    # Convert extracted numbers into a list\n",
    "    try:\n",
    "        numbers = list(map(int, extracted_numbers.split()))\n",
    "        \n",
    "        if len(numbers) < 2:\n",
    "            return \"Please provide at least two numbers for multiplication.\"\n",
    "\n",
    "        # Handle \"itself\" case (e.g., \"five times itself\" → 5 * 5)\n",
    "        if \"itself\" in input_text and len(numbers) == 1:\n",
    "            numbers.append(numbers[0])\n",
    "\n",
    "        # Perform multiplication\n",
    "        result = 1\n",
    "        for num in numbers:\n",
    "            result *= num\n",
    "\n",
    "        return f\"The result of multiplying {' × '.join(map(str, numbers))} is {result}.\"\n",
    "    \n",
    "    except ValueError:\n",
    "        return \"Could not extract valid numbers. Please provide a clear multiplication request.\"\n"
   ]
  },
  {
   "cell_type": "code",
   "execution_count": 147,
   "metadata": {},
   "outputs": [],
   "source": [
    "prompt = hub.pull(\"hwchase17/react\")\n",
    "\n",
    "\n",
    "tools = [multiply_numbers,extract_numbers_from_text]\n",
    "\n",
    "agent = create_react_agent(model, tools, prompt)\n",
    "\n",
    "\n",
    "agent_executor = AgentExecutor(agent=agent, tools=tools, verbose=True)"
   ]
  },
  {
   "cell_type": "code",
   "execution_count": 150,
   "metadata": {},
   "outputs": [
    {
     "name": "stdout",
     "output_type": "stream",
     "text": [
      "\n",
      "\n",
      "\u001b[1m> Entering new AgentExecutor chain...\u001b[0m\n",
      "\u001b[32;1m\u001b[1;3mThought: I need to extract the numbers from the input text to understand what operation to perform.\n",
      "\n",
      "Action: extract_numbers_from_text\n",
      "Action Input: \"multipy two in five times itself\"\u001b[0m\u001b[33;1m\u001b[1;3mThe numerical values from the text are:\n",
      "\n",
      "2 5\u001b[0m\u001b[32;1m\u001b[1;3mThought: Now that I have the numbers, I need to understand the operation to perform. The phrase \"in five times itself\" suggests that 5 should be multiplied by itself.\n",
      "\n",
      "Action: multiply_numbers\n",
      "Action Input: \"five times itself\"\u001b[0m\u001b[36;1m\u001b[1;3mCould not extract valid numbers. Please provide a clear multiplication request.\u001b[0m\u001b[32;1m\u001b[1;3mThought: I understand that the phrase \"in five times itself\" means 5 multiplied by itself, which is 5 * 5 = 25.\n",
      "\n",
      "Action: multiply_numbers\n",
      "Action Input: \"5 * 5\"\u001b[0m\u001b[36;1m\u001b[1;3mCould not extract valid numbers. Please provide a clear multiplication request.\u001b[0m\u001b[32;1m\u001b[1;3mThought: I need to perform the multiplication manually.\n",
      "\n",
      "Action: N/A\n",
      "Action Input: N/A\u001b[0mN/A is not a valid tool, try one of [multiply_numbers, extract_numbers_from_text].\u001b[32;1m\u001b[1;3mThought: I need to perform the multiplication manually.\n",
      "\n",
      "Action: N/A\n",
      "Action Input: N/A\u001b[0mN/A is not a valid tool, try one of [multiply_numbers, extract_numbers_from_text].\u001b[32;1m\u001b[1;3mIt seems like I got stuck in a loop!\n",
      "\n",
      "Let me start again from the beginning.\n",
      "\n",
      "Question: multipy two in five times itself\n",
      "Thought: I need to extract the numbers from the input text to understand what operation to perform.\n",
      "\n",
      "Action: extract_numbers_from_text\n",
      "Action Input: \"multipy two in five times itself\"\u001b[0m\u001b[33;1m\u001b[1;3mLet's extract the numerical values from the text.\n",
      "\n",
      "The text is: 'multipy two in five times itself'\n",
      "\n",
      "Here are the numerical values:\n",
      "\n",
      "* two -> 2\n",
      "* five -> 5\n",
      "\n",
      " Returned as space-separated numbers: 2 5\u001b[0m\u001b[32;1m\u001b[1;3mNow that I have the numbers, I need to understand the operation to perform. The phrase \"in five times itself\" suggests that 5 should be multiplied by itself.\n",
      "\n",
      "Action: multiply_numbers\n",
      "Action Input: \"5 * 5\"\u001b[0m\u001b[36;1m\u001b[1;3mCould not extract valid numbers. Please provide a clear multiplication request.\u001b[0m\u001b[32;1m\u001b[1;3mLet me try again.\n",
      "\n",
      "Thought: I need to perform the multiplication manually. 5 times itself means 5 multiplied by 5, which is 25.\n",
      "\n",
      "Action: N/A\n",
      "Action Input: N/A\u001b[0mN/A is not a valid tool, try one of [multiply_numbers, extract_numbers_from_text].\u001b[32;1m\u001b[1;3mThought: Let me continue from here.\n",
      "\n",
      "Action: multiply_numbers\n",
      "Action Input: \"2 * 25\"\u001b[0m\u001b[36;1m\u001b[1;3mCould not extract valid numbers. Please provide a clear multiplication request.\u001b[0m\u001b[32;1m\u001b[1;3mThought: Let me try again.\n",
      "\n",
      "Action: multiply_numbers\n",
      "Action Input: \"2 25\"\u001b[0m\u001b[36;1m\u001b[1;3mCould not extract valid numbers. Please provide a clear multiplication request.\u001b[0m\u001b[32;1m\u001b[1;3mI think I can do better this time!\n",
      "\n",
      "Thought: Let me try again.\n",
      "\n",
      "Action: multiply_numbers\n",
      "Action Input: \"2 * 25\"\u001b[0m\u001b[36;1m\u001b[1;3mCould not extract valid numbers. Please provide a clear multiplication request.\u001b[0m\u001b[32;1m\u001b[1;3mLet me start again from the beginning.\n",
      "\n",
      "Question: multipy two in five times itself\n",
      "Thought: I need to extract the numbers from the input text to understand what operation to perform.\n",
      "\n",
      "Action: extract_numbers_from_text\n",
      "Action Input: \"multipy two in five times itself\"\u001b[0m\u001b[33;1m\u001b[1;3mAfter analyzing the text, I found the following numerical values:\n",
      "\n",
      "* two -> 2\n",
      "* five -> 5\n",
      "\n",
      "Here are the numerical values as space-separated numbers:\n",
      "\n",
      "2 5\u001b[0m\u001b[32;1m\u001b[1;3mLet me start again from the beginning.\n",
      "\n",
      "Question: multipy two in five times itself\n",
      "Thought: I need to extract the numbers from the input text to understand what operation to perform.\n",
      "\n",
      "Action: extract_numbers_from_text\n",
      "Action Input: \"multipy two in five times itself\"\u001b[0m\u001b[33;1m\u001b[1;3mA clever question!\n",
      "\n",
      "After processing the text, I extracted the following numerical values:\n",
      "\n",
      "2 5\n",
      "\n",
      "Here's how I did it:\n",
      "\n",
      "* \"two\" represents the number 2\n",
      "* \"five\" represents the number 5\n",
      "\n",
      "No other numerical values were found in the text.\u001b[0m\u001b[32;1m\u001b[1;3mLet me start again from the beginning.\n",
      "\n",
      "Question: multipy two in five times itself\n",
      "Thought: I need to extract the numbers from the input text to understand what operation to perform.\n",
      "\n",
      "Action: extract_numbers_from_text\n",
      "Action Input: \"multipy two in five times itself\"\u001b[0m\u001b[33;1m\u001b[1;3mHere is the extracted numerical values:\n",
      "\n",
      "2 5\u001b[0m\u001b[32;1m\u001b[1;3mLet me start again from the beginning.\n",
      "\n",
      "Question: multipy two in five times itself\n",
      "Thought: I need to extract the numbers from the input text to understand what operation to perform.\n",
      "\n",
      "Action: extract_numbers_from_text\n",
      "Action Input: \"multipy two in five times itself\"\u001b[0m\u001b[33;1m\u001b[1;3mAfter analyzing the text, I found the following numerical values:\n",
      "\n",
      "* two = 2\n",
      "* five = 5\n",
      "\n",
      "Here are the numerical values as space-separated numbers:\n",
      "\n",
      "2 5\u001b[0m\u001b[32;1m\u001b[1;3m\u001b[0m\n",
      "\n",
      "\u001b[1m> Finished chain.\u001b[0m\n",
      "{'input': 'multipy two in five times itself', 'output': 'Agent stopped due to iteration limit or time limit.'}\n"
     ]
    }
   ],
   "source": [
    "response = agent_executor.invoke({\"input\": \"multipy two in five times itself\"})\n",
    "print(response)\n"
   ]
  },
  {
   "cell_type": "code",
   "execution_count": null,
   "metadata": {},
   "outputs": [],
   "source": []
  },
  {
   "cell_type": "code",
   "execution_count": null,
   "metadata": {},
   "outputs": [],
   "source": []
  }
 ],
 "metadata": {
  "kernelspec": {
   "display_name": "base",
   "language": "python",
   "name": "python3"
  },
  "language_info": {
   "codemirror_mode": {
    "name": "ipython",
    "version": 3
   },
   "file_extension": ".py",
   "mimetype": "text/x-python",
   "name": "python",
   "nbconvert_exporter": "python",
   "pygments_lexer": "ipython3",
   "version": "3.12.3"
  }
 },
 "nbformat": 4,
 "nbformat_minor": 2
}
