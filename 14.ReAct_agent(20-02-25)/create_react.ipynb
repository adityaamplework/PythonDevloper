{
 "cells": [
  {
   "cell_type": "markdown",
   "metadata": {},
   "source": [
    "### 1.Import models"
   ]
  },
  {
   "cell_type": "code",
   "execution_count": null,
   "metadata": {},
   "outputs": [],
   "source": [
    "from langchain_groq import ChatGroq\n",
    "from langchain.tools import Tool\n",
    "from langchain import hub\n",
    "from langchain.agents import create_react_agent,AgentExecutor\n",
    "import requests\n",
    "from langchain.memory import ConversationBufferMemory\n",
    "from langchain_community.tools.tavily_search import TavilySearchResults\n",
    "import os\n",
    "os.environ[\"TAVILY_API_KEY\"] = \"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\""
   ]
  },
  {
   "cell_type": "markdown",
   "metadata": {},
   "source": [
    "### Create a LLm"
   ]
  },
  {
   "cell_type": "code",
   "execution_count": null,
   "metadata": {},
   "outputs": [],
   "source": [
    "llm=ChatGroq(model=\"llama3-70b-8192\")"
   ]
  },
  {
   "cell_type": "markdown",
   "metadata": {},
   "source": [
    "### Create react prompt"
   ]
  },
  {
   "cell_type": "code",
   "execution_count": null,
   "metadata": {},
   "outputs": [],
   "source": [
    "# prompt = hub.pull(\"hwchase17/react\")\n",
    "from langchain.prompts import ChatPromptTemplate\n",
    "\n",
    "prompt = ChatPromptTemplate.from_messages({\n",
    "    \"\"\"\n",
    "{chat_history}\n",
    "\n",
    "'system': You must not answer by yourself; always use the available tools.\n",
    "- If the user input is related to weather and includes a city, use the weather tool first.\n",
    "- For all other queries, use the TravilySearch tool first.\n",
    "- Use chat history to quickly answer follow-up questions based on the user's last messages.\n",
    "- Provide responses as quickly as possible.\n",
    "\n",
    "Use the following format:\n",
    "\n",
    "Question: {input}  \n",
    "Thought: Consider the appropriate action to take.  \n",
    "Action: Choose one of [{tools} in {tool_names}].  \n",
    "Action Input: Provide the necessary input for the chosen action.  \n",
    "Observation: Record the result of the action.  \n",
    "... (Repeat the Thought/Action/Action Input/Observation process as needed)  \n",
    "Thought: I now know the final answer.  \n",
    "Final Answer: Provide the final answer to the original question.\n",
    "\n",
    "Begin!\n",
    "\n",
    "Question: {input}  \n",
    "Thought: {agent_scratchpad}\n",
    "\"\"\"\n",
    "})\n",
    "\n"
   ]
  },
  {
   "cell_type": "markdown",
   "metadata": {},
   "source": [
    "### Create Tool"
   ]
  },
  {
   "cell_type": "code",
   "execution_count": null,
   "metadata": {},
   "outputs": [],
   "source": [
    "def get_weather(city):\n",
    "    api_key = \"cdbd83db74eb405f306713534d0a920e\" \n",
    "    url = f\"https://api.openweathermap.org/data/2.5/weather?q={city}&appid={api_key}&units=metric\"\n",
    "    response= requests.get(url)\n",
    "    \n",
    "    if response.status_code == 200:\n",
    "        data = response.json()\n",
    "        return f\"Weather in {data['name']}: {data['weather'][0]['description']}, {data['main']['temp']}°C\"\n",
    "        \n",
    "    else:\n",
    "        return \"City not found or API error\"\n"
   ]
  },
  {
   "cell_type": "code",
   "execution_count": null,
   "metadata": {},
   "outputs": [],
   "source": [
    "tavily_api_key = os.getenv(\"TAVILY_API_KEY\")\n",
    "TS= TavilySearchResults(max_results=1,tavily_api_key=tavily_api_key )"
   ]
  },
  {
   "cell_type": "code",
   "execution_count": null,
   "metadata": {},
   "outputs": [],
   "source": [
    "weather_tool = Tool(\n",
    "    name=\"Weather Checker\",\n",
    "    func=get_weather,\n",
    "    description=\"\"\"Fetches real-time weather for a given city.                  \n",
    "                \"\"\"\n",
    ")"
   ]
  },
  {
   "cell_type": "markdown",
   "metadata": {},
   "source": [
    "### Use Chat History"
   ]
  },
  {
   "cell_type": "code",
   "execution_count": null,
   "metadata": {},
   "outputs": [],
   "source": [
    "memory = ConversationBufferMemory(memory_key=\"chat_history\", return_messages=True)"
   ]
  },
  {
   "cell_type": "code",
   "execution_count": null,
   "metadata": {},
   "outputs": [],
   "source": [
    "tools=[weather_tool,TS]\n",
    "agent=create_react_agent(llm,tools,prompt)\n",
    "agent_executor = AgentExecutor(agent=agent, tools=tools,handle_parsing_errors=True,memory=memory)\n"
   ]
  },
  {
   "cell_type": "markdown",
   "metadata": {},
   "source": [
    "### Use Agent"
   ]
  },
  {
   "cell_type": "code",
   "execution_count": null,
   "metadata": {},
   "outputs": [
    {
     "name": "stdout",
     "output_type": "stream",
     "text": [
      "Human: population of that capitla\n",
      "AI: Agent stopped due to iteration limit or time limit.\n"
     ]
    }
   ],
   "source": [
    "\n",
    "while True:\n",
    "    query=input('Ask your Queary:')\n",
    "    \n",
    "    if query==\"quit\":\n",
    "        break\n",
    "    \n",
    "    else:  \n",
    "        response = agent_executor.invoke({\n",
    "            \"input\": query ,\n",
    "            \"chat_history\":memory.chat_memory.messages\n",
    "            })\n",
    "\n",
    "        print(\"Human:\",query)\n",
    "        print(\"AI:\",response['output'])"
   ]
  },
  {
   "cell_type": "code",
   "execution_count": null,
   "metadata": {},
   "outputs": [],
   "source": [
    "for msg in memory.chat_memory.messages:\n",
    "    role = \"Human\" if msg.type == \"human\" else \"AI\"\n",
    "    print(f\"{role}: {msg.content}\")\n"
   ]
  },
  {
   "cell_type": "code",
   "execution_count": null,
   "metadata": {},
   "outputs": [],
   "source": []
  }
 ],
 "metadata": {
  "kernelspec": {
   "display_name": "base",
   "language": "python",
   "name": "python3"
  },
  "language_info": {
   "codemirror_mode": {
    "name": "ipython",
    "version": 3
   },
   "file_extension": ".py",
   "mimetype": "text/x-python",
   "name": "python",
   "nbconvert_exporter": "python",
   "pygments_lexer": "ipython3",
   "version": "3.12.3"
  }
 },
 "nbformat": 4,
 "nbformat_minor": 2
}
