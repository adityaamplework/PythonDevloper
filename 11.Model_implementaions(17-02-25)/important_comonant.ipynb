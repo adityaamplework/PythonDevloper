{
 "cells": [
  {
   "cell_type": "code",
   "execution_count": 13,
   "metadata": {},
   "outputs": [],
   "source": [
    "import os\n",
    "from dotenv import load_dotenv\n",
    "load_dotenv()\n",
    "\n",
    "os.environ[\"GROQ_API_KEY\"]=os.getenv(\"GROQ_API_KEY\")\n",
    "os.environ[\"LANGCHAIN_API_KEY\"]=os.getenv(\"LANGCHAIN_API_KEY\")\n",
    "os.environ[\"LANGCHAIN_TRACING_V2\"]=\"true\"\n",
    "os.environ[\"LANGCHAIN_PROJECT\"]=os.getenv(\"LANGCHAIN_PROJECT\")"
   ]
  },
  {
   "cell_type": "code",
   "execution_count": 14,
   "metadata": {},
   "outputs": [],
   "source": [
    "from langchain_groq import ChatGroq\n",
    "llm = ChatGroq(\n",
    "     model_name=\"llama3-8b-8192\" \n",
    ")"
   ]
  },
  {
   "cell_type": "code",
   "execution_count": 25,
   "metadata": {},
   "outputs": [],
   "source": [
    "result=llm.invoke('what is generative AI?')"
   ]
  },
  {
   "cell_type": "code",
   "execution_count": 27,
   "metadata": {},
   "outputs": [
    {
     "name": "stdout",
     "output_type": "stream",
     "text": [
      "Generative AI refers to a type of artificial intelligence (AI) that creates new, original content, such as text, images, music, videos, or even entire stories, based on a set of instructions, patterns, or examples. Generative AI models are trained on large amounts of data and use complex algorithms to generate new content that is often indistinguishable from human-created content.\n",
      "\n",
      "Generative AI can be used in a wide range of applications, including:\n",
      "\n",
      "1. **Art and Design**: Generative AI can be used to create original artwork, designs, and compositions, such as paintings, sculptures, and music.\n",
      "2. **Content Generation**: Generative AI can generate text, such as articles, blog posts, product descriptions, and even entire books.\n",
      "3. **Data Augmentation**: Generative AI can be used to generate new data sets, such as images, audio files, or videos, to augment existing datasets and improve machine learning model performance.\n",
      "4. **Chatbots and Conversational AI**: Generative AI can be used to create conversational AI systems that can respond to questions and engage in natural-sounding conversations.\n",
      "5. **Language Translation**: Generative AI can be used to generate translations of text, speech, and even entire books.\n",
      "6. **Music and Audio Generation**: Generative AI can be used to generate original music, podcasts, and audio files.\n",
      "7. **Video Generation**: Generative AI can be used to generate original videos, including animations, movies, and TV shows.\n",
      "\n",
      "Types of Generative AI:\n",
      "\n",
      "1. **Generative Adversarial Networks (GANs)**: GANs consist of two neural networks that work together to generate new content. One network generates content, while the other network evaluates the generated content and provides feedback to the first network.\n",
      "2. **Variational Autoencoders (VAEs)**: VAEs are neural networks that learn to compress and reconstruct data, allowing them to generate new content that is similar to the original data.\n",
      "3. **Recurrent Neural Networks (RNNs)**: RNNs are neural networks that can generate sequential data, such as text or music, by predicting the next element in a sequence.\n",
      "4. ** Transformers**: Transformers are neural networks that can generate sequential data, such as text or music, by using self-attention mechanisms to focus on specific parts of the input data.\n",
      "\n",
      "Benefits of Generative AI:\n",
      "\n",
      "1. **Increased Efficiency**: Generative AI can automate tasks that would normally require human creativity and effort.\n",
      "2. **Improved Accuracy**: Generative AI can generate content that is more accurate and consistent than human-created content.\n",
      "3. **New Creative Possibilities**: Generative AI can create new forms of art, music, and entertainment that were previously impossible for humans to create.\n",
      "\n",
      "However, Generative AI also raises important ethical and social concerns, such as:\n",
      "\n",
      "1. **Copyright and Ownership**: Who owns the generated content, and how can copyright laws be applied to it?\n",
      "2. **Biases and Unfairness**: Generative AI models can perpetuate biases and unfairness present in the training data.\n",
      "3. **Job Displacement**: Generative AI may displace certain jobs, such as writers, designers, and artists.\n",
      "\n",
      "Overall, Generative AI has the potential to revolutionize many industries and create new forms of art and entertainment, but it also requires careful consideration of its ethical and social implications.\n"
     ]
    }
   ],
   "source": [
    "print(result.content)"
   ]
  },
  {
   "cell_type": "code",
   "execution_count": 28,
   "metadata": {},
   "outputs": [],
   "source": [
    "from langchain_core.prompts import ChatPromptTemplate\n",
    "prompt=ChatPromptTemplate.from_messages(\n",
    "    [\n",
    "        (\"system\",\"You are an expert AI engineer. Provide me ansers based on the questions\"),\n",
    "        (\"user\",\"{input}\")\n",
    "    ]\n",
    ")"
   ]
  },
  {
   "cell_type": "code",
   "execution_count": 29,
   "metadata": {},
   "outputs": [],
   "source": [
    "chain=prompt|llm"
   ]
  },
  {
   "cell_type": "code",
   "execution_count": 33,
   "metadata": {},
   "outputs": [
    {
     "name": "stdout",
     "output_type": "stream",
     "text": [
      "Deep learning is a subset of machine learning that involves the use of artificial neural networks (ANNs) to model and analyze data. The term \"deep\" refers to the fact that these networks have multiple layers of interconnected nodes or \"neurons,\" which allow them to learn and represent complex patterns in data.\n",
      "\n",
      "Traditional machine learning algorithms typically rely on hand-coded features or rules to analyze data. In contrast, deep learning algorithms are able to automatically extract features and learn from data without human intervention. This is achieved through the use of multiple layers of neural networks, each of which processes and transforms the data in a specific way.\n",
      "\n",
      "The key characteristics of deep learning are:\n",
      "\n",
      "1. Multiple layers: Deep learning networks typically consist of multiple layers of neurons, each of which is connected to the output of the previous layer. This allows the network to learn and represent complex patterns in data.\n",
      "2. Neural networks: Deep learning networks are based on the concept of artificial neural networks, which are inspired by the structure and function of the human brain.\n",
      "3. Automatic feature extraction: Deep learning algorithms are able to automatically extract features from data, without the need for human intervention. This is achieved through the use of convolutional and pooling layers, which are designed to extract specific types of patterns and features from data.\n",
      "4. Large-scale data: Deep learning algorithms typically require large amounts of data to train and learn from. This is because the algorithm needs to be able to see many examples of the data in order to learn and generalize well.\n",
      "5. Computational power: Deep learning algorithms require significant computational power to train and run. This is because the algorithm needs to perform many calculations and iterations in order to learn and make predictions.\n",
      "\n",
      "Some examples of deep learning applications include:\n",
      "\n",
      "1. Computer vision: Deep learning can be used to recognize and classify images, such as objects, faces, and traffic signs.\n",
      "2. Natural language processing: Deep learning can be used to analyze and understand human language, such as text and speech.\n",
      "3. Speech recognition: Deep learning can be used to recognize and transcribe speech, such as voice assistants and speech-to-text systems.\n",
      "4. Robotics: Deep learning can be used to control and interact with robots, such as autonomous vehicles and robotic arms.\n",
      "5. Healthcare: Deep learning can be used to analyze medical images, such as MRI and CT scans, and to make predictions about patient outcomes.\n",
      "\n",
      "Overall, deep learning is a powerful and flexible technology that has the potential to revolutionize many fields and industries.\n"
     ]
    }
   ],
   "source": [
    "response=chain.invoke({\"input\":\"What is deep learning?\"})\n",
    "print(response.content)"
   ]
  },
  {
   "cell_type": "code",
   "execution_count": 34,
   "metadata": {},
   "outputs": [
    {
     "data": {
      "text/plain": [
       "langchain_core.messages.ai.AIMessage"
      ]
     },
     "execution_count": 34,
     "metadata": {},
     "output_type": "execute_result"
    }
   ],
   "source": [
    "type(response)"
   ]
  },
  {
   "cell_type": "code",
   "execution_count": null,
   "metadata": {},
   "outputs": [],
   "source": []
  }
 ],
 "metadata": {
  "kernelspec": {
   "display_name": "base",
   "language": "python",
   "name": "python3"
  },
  "language_info": {
   "codemirror_mode": {
    "name": "ipython",
    "version": 3
   },
   "file_extension": ".py",
   "mimetype": "text/x-python",
   "name": "python",
   "nbconvert_exporter": "python",
   "pygments_lexer": "ipython3",
   "version": "3.12.3"
  }
 },
 "nbformat": 4,
 "nbformat_minor": 2
}
