{
 "cells": [
  {
   "cell_type": "code",
   "execution_count": 21,
   "metadata": {},
   "outputs": [],
   "source": [
    "from langchain_community.document_loaders import TextLoader\n",
    "from langchain.text_splitter import CharacterTextSplitter\n",
    "from langchain_huggingface import HuggingFaceEmbeddings\n",
    "from dotenv import load_dotenv\n",
    "import os\n",
    "from langchain_community.vectorstores import FAISS"
   ]
  },
  {
   "cell_type": "code",
   "execution_count": 19,
   "metadata": {},
   "outputs": [],
   "source": [
    "os.environ['HF_TOKEN']=os.getenv(\"HF_TOKEN\")"
   ]
  },
  {
   "cell_type": "markdown",
   "metadata": {},
   "source": [
    "Text load"
   ]
  },
  {
   "cell_type": "code",
   "execution_count": 4,
   "metadata": {},
   "outputs": [],
   "source": [
    "loader=TextLoader('data.txt')\n",
    "text=loader.load()"
   ]
  },
  {
   "cell_type": "markdown",
   "metadata": {},
   "source": [
    "Divide in Chunks"
   ]
  },
  {
   "cell_type": "code",
   "execution_count": 14,
   "metadata": {},
   "outputs": [
    {
     "name": "stderr",
     "output_type": "stream",
     "text": [
      "Created a chunk of size 527, which is longer than the specified 50\n",
      "Created a chunk of size 593, which is longer than the specified 50\n",
      "Created a chunk of size 406, which is longer than the specified 50\n",
      "Created a chunk of size 497, which is longer than the specified 50\n",
      "Created a chunk of size 337, which is longer than the specified 50\n",
      "Created a chunk of size 391, which is longer than the specified 50\n",
      "Created a chunk of size 356, which is longer than the specified 50\n",
      "Created a chunk of size 276, which is longer than the specified 50\n"
     ]
    }
   ],
   "source": [
    "split=CharacterTextSplitter(chunk_size=50,chunk_overlap=10  )\n",
    "docs=split.split_documents(text)"
   ]
  },
  {
   "cell_type": "markdown",
   "metadata": {},
   "source": [
    "Embedding"
   ]
  },
  {
   "cell_type": "code",
   "execution_count": 20,
   "metadata": {},
   "outputs": [],
   "source": [
    "embedding=HuggingFaceEmbeddings(model_name='all-MiniLM-L6-v2')"
   ]
  },
  {
   "cell_type": "code",
   "execution_count": 24,
   "metadata": {},
   "outputs": [],
   "source": [
    "db=FAISS.from_documents(docs,embedding)"
   ]
  },
  {
   "cell_type": "code",
   "execution_count": 26,
   "metadata": {},
   "outputs": [],
   "source": [
    "query=\"How is AI being used in daily life?\"\n",
    "ans=db.similarity_search(query)"
   ]
  },
  {
   "cell_type": "code",
   "execution_count": 32,
   "metadata": {},
   "outputs": [
    {
     "name": "stdout",
     "output_type": "stream",
     "text": [
      "AI will undoubtedly shape the future, influencing industries, economies, and daily life. By addressing its challenges responsibly, society can ensure that AI remains a tool for progress rather than a source of harm. The choices we make today will determine whether AI becomes a force for good or a challenge to overcome.\n"
     ]
    }
   ],
   "source": [
    "print(ans[0].page_content)"
   ]
  },
  {
   "cell_type": "markdown",
   "metadata": {},
   "source": [
    "Retriver"
   ]
  },
  {
   "cell_type": "code",
   "execution_count": 35,
   "metadata": {},
   "outputs": [
    {
     "data": {
      "text/plain": [
       "[Document(id='d5da4455-a75c-4610-9a59-18fc0a12c3f9', metadata={'source': 'data.txt'}, page_content='AI will undoubtedly shape the future, influencing industries, economies, and daily life. By addressing its challenges responsibly, society can ensure that AI remains a tool for progress rather than a source of harm. The choices we make today will determine whether AI becomes a force for good or a challenge to overcome.'),\n",
       " Document(id='4d17e896-1cf1-4c1a-870b-92683a951a4c', metadata={'source': 'data.txt'}, page_content='In the business world, AI is improving productivity by automating repetitive tasks. Companies use AI for customer service chatbots, fraud detection in banking, and predictive analytics in marketing. AI-powered tools help writers, designers, and developers streamline their work. As AI becomes more sophisticated, its applications will only expand, creating opportunities for innovation and economic growth.'),\n",
       " Document(id='711db0e2-2c32-486b-a23c-bc42f00a3b07', metadata={'source': 'data.txt'}, page_content='The Future of Artificial Intelligence: Opportunities and Challenges\\nArtificial Intelligence (AI) is transforming nearly every aspect of human life. From healthcare and finance to education and entertainment, AI-powered technologies are enhancing efficiency, automating tasks, and unlocking new possibilities. However, alongside its benefits, AI presents challenges that society must navigate carefully. The future of AI depends on how we manage its development, ensuring that it serves humanity in ethical and responsible ways.'),\n",
       " Document(id='cec7f097-fafb-4c1e-bf19-c1e7ac0fd957', metadata={'source': 'data.txt'}, page_content='The Rise of AI in Everyday Life\\nAI has already become a crucial part of modern life. Virtual assistants like Siri and Alexa use natural language processing to understand and respond to voice commands. AI-driven recommendation systems in platforms like Netflix and Spotify analyze user behavior to suggest personalized content. In healthcare, AI-powered diagnostics assist doctors in identifying diseases more accurately and at an earlier stage. Autonomous vehicles, powered by machine learning algorithms, are expected to revolutionize transportation, reducing accidents caused by human error.')]"
      ]
     },
     "execution_count": 35,
     "metadata": {},
     "output_type": "execute_result"
    }
   ],
   "source": [
    "retriver=db.as_retriever()\n",
    "retriver.invoke(query)"
   ]
  },
  {
   "cell_type": "markdown",
   "metadata": {},
   "source": [
    "similarity Search with score"
   ]
  },
  {
   "cell_type": "code",
   "execution_count": 37,
   "metadata": {},
   "outputs": [
    {
     "data": {
      "text/plain": [
       "[(Document(id='d5da4455-a75c-4610-9a59-18fc0a12c3f9', metadata={'source': 'data.txt'}, page_content='AI will undoubtedly shape the future, influencing industries, economies, and daily life. By addressing its challenges responsibly, society can ensure that AI remains a tool for progress rather than a source of harm. The choices we make today will determine whether AI becomes a force for good or a challenge to overcome.'),\n",
       "  0.7046664),\n",
       " (Document(id='4d17e896-1cf1-4c1a-870b-92683a951a4c', metadata={'source': 'data.txt'}, page_content='In the business world, AI is improving productivity by automating repetitive tasks. Companies use AI for customer service chatbots, fraud detection in banking, and predictive analytics in marketing. AI-powered tools help writers, designers, and developers streamline their work. As AI becomes more sophisticated, its applications will only expand, creating opportunities for innovation and economic growth.'),\n",
       "  0.7718296),\n",
       " (Document(id='711db0e2-2c32-486b-a23c-bc42f00a3b07', metadata={'source': 'data.txt'}, page_content='The Future of Artificial Intelligence: Opportunities and Challenges\\nArtificial Intelligence (AI) is transforming nearly every aspect of human life. From healthcare and finance to education and entertainment, AI-powered technologies are enhancing efficiency, automating tasks, and unlocking new possibilities. However, alongside its benefits, AI presents challenges that society must navigate carefully. The future of AI depends on how we manage its development, ensuring that it serves humanity in ethical and responsible ways.'),\n",
       "  0.78368783),\n",
       " (Document(id='cec7f097-fafb-4c1e-bf19-c1e7ac0fd957', metadata={'source': 'data.txt'}, page_content='The Rise of AI in Everyday Life\\nAI has already become a crucial part of modern life. Virtual assistants like Siri and Alexa use natural language processing to understand and respond to voice commands. AI-driven recommendation systems in platforms like Netflix and Spotify analyze user behavior to suggest personalized content. In healthcare, AI-powered diagnostics assist doctors in identifying diseases more accurately and at an earlier stage. Autonomous vehicles, powered by machine learning algorithms, are expected to revolutionize transportation, reducing accidents caused by human error.'),\n",
       "  0.7940846)]"
      ]
     },
     "execution_count": 37,
     "metadata": {},
     "output_type": "execute_result"
    }
   ],
   "source": [
    "docs_with_score=db.similarity_search_with_score(query)\n",
    "docs_with_score"
   ]
  },
  {
   "cell_type": "markdown",
   "metadata": {},
   "source": [
    "convert Queary in Embedding  Vectore"
   ]
  },
  {
   "cell_type": "code",
   "execution_count": 39,
   "metadata": {},
   "outputs": [],
   "source": [
    "embedding_vector=embedding.embed_query(query)"
   ]
  },
  {
   "cell_type": "code",
   "execution_count": 42,
   "metadata": {},
   "outputs": [
    {
     "data": {
      "text/plain": [
       "'AI will undoubtedly shape the future, influencing industries, economies, and daily life. By addressing its challenges responsibly, society can ensure that AI remains a tool for progress rather than a source of harm. The choices we make today will determine whether AI becomes a force for good or a challenge to overcome.'"
      ]
     },
     "execution_count": 42,
     "metadata": {},
     "output_type": "execute_result"
    }
   ],
   "source": [
    "db.similarity_search_by_vector(embedding_vector)[0].page_content"
   ]
  },
  {
   "cell_type": "markdown",
   "metadata": {},
   "source": [
    "Save and Loading"
   ]
  },
  {
   "cell_type": "code",
   "execution_count": 43,
   "metadata": {},
   "outputs": [],
   "source": [
    "db.save_local(\"faiss_index\")"
   ]
  },
  {
   "cell_type": "code",
   "execution_count": 45,
   "metadata": {},
   "outputs": [],
   "source": [
    "new_db=FAISS.load_local(\"faiss_index\",embeddings=embedding,allow_dangerous_deserialization=True)"
   ]
  },
  {
   "cell_type": "code",
   "execution_count": 47,
   "metadata": {},
   "outputs": [
    {
     "data": {
      "text/plain": [
       "'AI will undoubtedly shape the future, influencing industries, economies, and daily life. By addressing its challenges responsibly, society can ensure that AI remains a tool for progress rather than a source of harm. The choices we make today will determine whether AI becomes a force for good or a challenge to overcome.'"
      ]
     },
     "execution_count": 47,
     "metadata": {},
     "output_type": "execute_result"
    }
   ],
   "source": [
    "new_db.similarity_search(query)[0].page_content"
   ]
  },
  {
   "cell_type": "code",
   "execution_count": null,
   "metadata": {},
   "outputs": [],
   "source": [
    "."
   ]
  }
 ],
 "metadata": {
  "kernelspec": {
   "display_name": "base",
   "language": "python",
   "name": "python3"
  },
  "language_info": {
   "codemirror_mode": {
    "name": "ipython",
    "version": 3
   },
   "file_extension": ".py",
   "mimetype": "text/x-python",
   "name": "python",
   "nbconvert_exporter": "python",
   "pygments_lexer": "ipython3",
   "version": "3.12.3"
  }
 },
 "nbformat": 4,
 "nbformat_minor": 2
}
