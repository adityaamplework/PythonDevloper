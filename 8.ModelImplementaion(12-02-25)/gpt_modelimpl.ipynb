{
 "cells": [
  {
   "cell_type": "code",
   "execution_count": 1,
   "metadata": {},
   "outputs": [
    {
     "data": {
      "application/vnd.jupyter.widget-view+json": {
       "model_id": "1568fe894d1a4f15849ae81b61487a54",
       "version_major": 2,
       "version_minor": 0
      },
      "text/plain": [
       "README.md:   0%|          | 0.00/1.18k [00:00<?, ?B/s]"
      ]
     },
     "metadata": {},
     "output_type": "display_data"
    },
    {
     "name": "stderr",
     "output_type": "stream",
     "text": [
      "c:\\Users\\Dell\\anaconda3\\Lib\\site-packages\\huggingface_hub\\file_download.py:140: UserWarning: `huggingface_hub` cache-system uses symlinks by default to efficiently store duplicated files but your machine does not support them in C:\\Users\\Dell\\.cache\\huggingface\\hub\\datasets--hakurei--open-instruct-v1. Caching files will still work but in a degraded version that might require more space on your disk. This warning can be disabled by setting the `HF_HUB_DISABLE_SYMLINKS_WARNING` environment variable. For more details, see https://huggingface.co/docs/huggingface_hub/how-to-cache#limitations.\n",
      "To support symlinks on Windows, you either need to activate Developer Mode or to run Python as an administrator. In order to activate developer mode, see this article: https://docs.microsoft.com/en-us/windows/apps/get-started/enable-your-device-for-development\n",
      "  warnings.warn(message)\n"
     ]
    },
    {
     "data": {
      "application/vnd.jupyter.widget-view+json": {
       "model_id": "f0138129a8f7405d961280846dbc21d7",
       "version_major": 2,
       "version_minor": 0
      },
      "text/plain": [
       "instruct_data.json:   0%|          | 0.00/104M [00:00<?, ?B/s]"
      ]
     },
     "metadata": {},
     "output_type": "display_data"
    },
    {
     "data": {
      "application/vnd.jupyter.widget-view+json": {
       "model_id": "98863905e3f34c8bbc1725a8b1ae35cc",
       "version_major": 2,
       "version_minor": 0
      },
      "text/plain": [
       "additional_data.json:   0%|          | 0.00/19.7M [00:00<?, ?B/s]"
      ]
     },
     "metadata": {},
     "output_type": "display_data"
    },
    {
     "data": {
      "application/vnd.jupyter.widget-view+json": {
       "model_id": "08f8955284554b7fa5f145c4a3ea9352",
       "version_major": 2,
       "version_minor": 0
      },
      "text/plain": [
       "alpaca_data.json:   0%|          | 0.00/22.7M [00:00<?, ?B/s]"
      ]
     },
     "metadata": {},
     "output_type": "display_data"
    },
    {
     "data": {
      "application/vnd.jupyter.widget-view+json": {
       "model_id": "ee7144a726ee4d0792c762e499df09ad",
       "version_major": 2,
       "version_minor": 0
      },
      "text/plain": [
       "gpt4_data.json:   0%|          | 0.00/12.2M [00:00<?, ?B/s]"
      ]
     },
     "metadata": {},
     "output_type": "display_data"
    },
    {
     "data": {
      "application/vnd.jupyter.widget-view+json": {
       "model_id": "8d8a64cdca3140a5b2cc734bedc73b12",
       "version_major": 2,
       "version_minor": 0
      },
      "text/plain": [
       "roleplay_instruct.json:   0%|          | 0.00/2.64M [00:00<?, ?B/s]"
      ]
     },
     "metadata": {},
     "output_type": "display_data"
    },
    {
     "data": {
      "application/vnd.jupyter.widget-view+json": {
       "model_id": "f699c4cbb13242bf99c8285f98115629",
       "version_major": 2,
       "version_minor": 0
      },
      "text/plain": [
       "self_instruct.json:   0%|          | 0.00/26.2M [00:00<?, ?B/s]"
      ]
     },
     "metadata": {},
     "output_type": "display_data"
    },
    {
     "data": {
      "application/vnd.jupyter.widget-view+json": {
       "model_id": "b59f8bbb2e0743968f295df09553ddce",
       "version_major": 2,
       "version_minor": 0
      },
      "text/plain": [
       "sharegpt_data.json:   0%|          | 0.00/109M [00:00<?, ?B/s]"
      ]
     },
     "metadata": {},
     "output_type": "display_data"
    },
    {
     "data": {
      "application/vnd.jupyter.widget-view+json": {
       "model_id": "b475f8a574204367a34f34b680c30d1a",
       "version_major": 2,
       "version_minor": 0
      },
      "text/plain": [
       "synthetic_instruct.json:   0%|          | 0.00/19.3M [00:00<?, ?B/s]"
      ]
     },
     "metadata": {},
     "output_type": "display_data"
    },
    {
     "data": {
      "application/vnd.jupyter.widget-view+json": {
       "model_id": "f32af7ca1f834a55b53c678e5e025278",
       "version_major": 2,
       "version_minor": 0
      },
      "text/plain": [
       "Generating train split:   0%|          | 0/498813 [00:00<?, ? examples/s]"
      ]
     },
     "metadata": {},
     "output_type": "display_data"
    }
   ],
   "source": [
    "from transformers import (\n",
    "    AutoTokenizer,\n",
    "    AutoModelForCausalLM,\n",
    "    DataCollatorForLanguageModeling,\n",
    "    Trainer,\n",
    "    TrainingArguments,\n",
    ")\n",
    "from datasets import load_dataset\n",
    "\n",
    "\n",
    "dataset = load_dataset(\"hakurei/open-instruct-v1\", split='train')\n",
    "\n"
   ]
  },
  {
   "cell_type": "code",
   "execution_count": 5,
   "metadata": {},
   "outputs": [
    {
     "data": {
      "text/html": [
       "<div>\n",
       "<style scoped>\n",
       "    .dataframe tbody tr th:only-of-type {\n",
       "        vertical-align: middle;\n",
       "    }\n",
       "\n",
       "    .dataframe tbody tr th {\n",
       "        vertical-align: top;\n",
       "    }\n",
       "\n",
       "    .dataframe thead th {\n",
       "        text-align: right;\n",
       "    }\n",
       "</style>\n",
       "<table border=\"1\" class=\"dataframe\">\n",
       "  <thead>\n",
       "    <tr style=\"text-align: right;\">\n",
       "      <th></th>\n",
       "      <th>output</th>\n",
       "      <th>input</th>\n",
       "      <th>instruction</th>\n",
       "    </tr>\n",
       "  </thead>\n",
       "  <tbody>\n",
       "    <tr>\n",
       "      <th>100100</th>\n",
       "      <td>9</td>\n",
       "      <td></td>\n",
       "      <td>Find the word with the highest frequency in th...</td>\n",
       "    </tr>\n",
       "    <tr>\n",
       "      <th>175623</th>\n",
       "      <td>Yes, there are ways to recycle plastic contain...</td>\n",
       "      <td></td>\n",
       "      <td>Is there a way to recycle plastic containers.</td>\n",
       "    </tr>\n",
       "    <tr>\n",
       "      <th>439434</th>\n",
       "      <td>Some of the top priorities for procurement lea...</td>\n",
       "      <td></td>\n",
       "      <td>What are the top priorities for Procurement le...</td>\n",
       "    </tr>\n",
       "    <tr>\n",
       "      <th>6445</th>\n",
       "      <td>The device is a visor with adjustable lenses t...</td>\n",
       "      <td></td>\n",
       "      <td>Imagine a device that can help you read faster...</td>\n",
       "    </tr>\n",
       "    <tr>\n",
       "      <th>480419</th>\n",
       "      <td>Create a to-do list and prioritize tasks.\\n2. ...</td>\n",
       "      <td></td>\n",
       "      <td>What are some steps I can take to become more ...</td>\n",
       "    </tr>\n",
       "    <tr>\n",
       "      <th>74852</th>\n",
       "      <td>Bot</td>\n",
       "      <td></td>\n",
       "      <td>Detect if the sentence is written by a human o...</td>\n",
       "    </tr>\n",
       "    <tr>\n",
       "      <th>260550</th>\n",
       "      <td>The First Amendment to the Constitution is oft...</td>\n",
       "      <td></td>\n",
       "      <td>Name and define the five freedoms of the First...</td>\n",
       "    </tr>\n",
       "    <tr>\n",
       "      <th>251179</th>\n",
       "      <td>Jordan Akins retired baseball after the 2013 s...</td>\n",
       "      <td>Akins graduated from Union Grove High School i...</td>\n",
       "      <td>What did Jordan Akins do after retiring from b...</td>\n",
       "    </tr>\n",
       "    <tr>\n",
       "      <th>250519</th>\n",
       "      <td>Some hip hop albums that are widely regarded a...</td>\n",
       "      <td></td>\n",
       "      <td>What are regarded as some of the best hip-hop ...</td>\n",
       "    </tr>\n",
       "    <tr>\n",
       "      <th>455813</th>\n",
       "      <td>```kotlin\\nUsage: perf [&lt;options&gt;] &lt;command&gt; [...</td>\n",
       "      <td></td>\n",
       "      <td>I want you to act as a linux terminal. I will ...</td>\n",
       "    </tr>\n",
       "    <tr>\n",
       "      <th>221086</th>\n",
       "      <td>PySpark is an interface for Apache Spark in Py...</td>\n",
       "      <td></td>\n",
       "      <td>What is PySpark?</td>\n",
       "    </tr>\n",
       "    <tr>\n",
       "      <th>369804</th>\n",
       "      <td>def best(x, y):\\n    if x &gt; y:\\n    return x\\n...</td>\n",
       "      <td></td>\n",
       "      <td>Create a function called \"best\" which takes in...</td>\n",
       "    </tr>\n",
       "    <tr>\n",
       "      <th>322898</th>\n",
       "      <td>It was a dark and stormy night. Suddenly, the ...</td>\n",
       "      <td>It's was a dark and stormy night; suddenly the...</td>\n",
       "      <td>Proofread the following passage and suggest ed...</td>\n",
       "    </tr>\n",
       "    <tr>\n",
       "      <th>430033</th>\n",
       "      <td>Je suis un expert en rédaction et je peux cert...</td>\n",
       "      <td></td>\n",
       "      <td>Web search results:\\n\\n[1] \"Here is a template...</td>\n",
       "    </tr>\n",
       "    <tr>\n",
       "      <th>412559</th>\n",
       "      <td>Phishing is a type of cyber attack that aims t...</td>\n",
       "      <td></td>\n",
       "      <td>give me some of the literature survey of phish...</td>\n",
       "    </tr>\n",
       "    <tr>\n",
       "      <th>4719</th>\n",
       "      <td>The zeros of the function 2x^3 - 4x + 2 are 0 ...</td>\n",
       "      <td></td>\n",
       "      <td>Find the zeros of the function: 2x^3 - 4x + 2.</td>\n",
       "    </tr>\n",
       "    <tr>\n",
       "      <th>290061</th>\n",
       "      <td>The colors of the French flag are blue, white,...</td>\n",
       "      <td></td>\n",
       "      <td>Identify the colors of the French flag.</td>\n",
       "    </tr>\n",
       "    <tr>\n",
       "      <th>301774</th>\n",
       "      <td>Dear [Professor Name],\\n\\nI am writing to requ...</td>\n",
       "      <td></td>\n",
       "      <td>Create an email template to ask for a recommen...</td>\n",
       "    </tr>\n",
       "    <tr>\n",
       "      <th>52919</th>\n",
       "      <td>(d)</td>\n",
       "      <td></td>\n",
       "      <td>Which one is not a country?\\n\\nUnited States, ...</td>\n",
       "    </tr>\n",
       "    <tr>\n",
       "      <th>475652</th>\n",
       "      <td>The best way to apologize after an argument is...</td>\n",
       "      <td></td>\n",
       "      <td>What is the best way to apologize after an arg...</td>\n",
       "    </tr>\n",
       "  </tbody>\n",
       "</table>\n",
       "</div>"
      ],
      "text/plain": [
       "                                                   output  \\\n",
       "100100                                                  9   \n",
       "175623  Yes, there are ways to recycle plastic contain...   \n",
       "439434  Some of the top priorities for procurement lea...   \n",
       "6445    The device is a visor with adjustable lenses t...   \n",
       "480419  Create a to-do list and prioritize tasks.\\n2. ...   \n",
       "74852                                                 Bot   \n",
       "260550  The First Amendment to the Constitution is oft...   \n",
       "251179  Jordan Akins retired baseball after the 2013 s...   \n",
       "250519  Some hip hop albums that are widely regarded a...   \n",
       "455813  ```kotlin\\nUsage: perf [<options>] <command> [...   \n",
       "221086  PySpark is an interface for Apache Spark in Py...   \n",
       "369804  def best(x, y):\\n    if x > y:\\n    return x\\n...   \n",
       "322898  It was a dark and stormy night. Suddenly, the ...   \n",
       "430033  Je suis un expert en rédaction et je peux cert...   \n",
       "412559  Phishing is a type of cyber attack that aims t...   \n",
       "4719    The zeros of the function 2x^3 - 4x + 2 are 0 ...   \n",
       "290061  The colors of the French flag are blue, white,...   \n",
       "301774  Dear [Professor Name],\\n\\nI am writing to requ...   \n",
       "52919                                                 (d)   \n",
       "475652  The best way to apologize after an argument is...   \n",
       "\n",
       "                                                    input  \\\n",
       "100100                                                      \n",
       "175623                                                      \n",
       "439434                                                      \n",
       "6445                                                        \n",
       "480419                                                      \n",
       "74852                                                       \n",
       "260550                                                      \n",
       "251179  Akins graduated from Union Grove High School i...   \n",
       "250519                                                      \n",
       "455813                                                      \n",
       "221086                                                      \n",
       "369804                                                      \n",
       "322898  It's was a dark and stormy night; suddenly the...   \n",
       "430033                                                      \n",
       "412559                                                      \n",
       "4719                                                        \n",
       "290061                                                      \n",
       "301774                                                      \n",
       "52919                                                       \n",
       "475652                                                      \n",
       "\n",
       "                                              instruction  \n",
       "100100  Find the word with the highest frequency in th...  \n",
       "175623      Is there a way to recycle plastic containers.  \n",
       "439434  What are the top priorities for Procurement le...  \n",
       "6445    Imagine a device that can help you read faster...  \n",
       "480419  What are some steps I can take to become more ...  \n",
       "74852   Detect if the sentence is written by a human o...  \n",
       "260550  Name and define the five freedoms of the First...  \n",
       "251179  What did Jordan Akins do after retiring from b...  \n",
       "250519  What are regarded as some of the best hip-hop ...  \n",
       "455813  I want you to act as a linux terminal. I will ...  \n",
       "221086                                   What is PySpark?  \n",
       "369804  Create a function called \"best\" which takes in...  \n",
       "322898  Proofread the following passage and suggest ed...  \n",
       "430033  Web search results:\\n\\n[1] \"Here is a template...  \n",
       "412559  give me some of the literature survey of phish...  \n",
       "4719       Find the zeros of the function: 2x^3 - 4x + 2.  \n",
       "290061            Identify the colors of the French flag.  \n",
       "301774  Create an email template to ask for a recommen...  \n",
       "52919   Which one is not a country?\\n\\nUnited States, ...  \n",
       "475652  What is the best way to apologize after an arg...  "
      ]
     },
     "execution_count": 5,
     "metadata": {},
     "output_type": "execute_result"
    }
   ],
   "source": [
    "dataset.to_pandas().sample(20)"
   ]
  },
  {
   "cell_type": "code",
   "execution_count": null,
   "metadata": {},
   "outputs": [],
   "source": []
  },
  {
   "cell_type": "code",
   "execution_count": null,
   "metadata": {},
   "outputs": [],
   "source": []
  },
  {
   "cell_type": "code",
   "execution_count": null,
   "metadata": {},
   "outputs": [],
   "source": []
  },
  {
   "cell_type": "code",
   "execution_count": null,
   "metadata": {},
   "outputs": [],
   "source": []
  }
 ],
 "metadata": {
  "kernelspec": {
   "display_name": "base",
   "language": "python",
   "name": "python3"
  },
  "language_info": {
   "codemirror_mode": {
    "name": "ipython",
    "version": 3
   },
   "file_extension": ".py",
   "mimetype": "text/x-python",
   "name": "python",
   "nbconvert_exporter": "python",
   "pygments_lexer": "ipython3",
   "version": "3.12.3"
  }
 },
 "nbformat": 4,
 "nbformat_minor": 2
}
