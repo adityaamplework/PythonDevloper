{
 "cells": [
  {
   "cell_type": "code",
   "execution_count": 42,
   "metadata": {},
   "outputs": [],
   "source": [
    "import chromadb"
   ]
  },
  {
   "cell_type": "code",
   "execution_count": 43,
   "metadata": {},
   "outputs": [],
   "source": [
    "from langchain.embeddings import OllamaEmbeddings\n"
   ]
  },
  {
   "cell_type": "code",
   "execution_count": 44,
   "metadata": {},
   "outputs": [],
   "source": [
    "from langchain.text_splitter import CharacterTextSplitter"
   ]
  },
  {
   "cell_type": "code",
   "execution_count": 45,
   "metadata": {},
   "outputs": [],
   "source": [
    "from langchain.vectorstores import Chroma"
   ]
  },
  {
   "cell_type": "code",
   "execution_count": 46,
   "metadata": {},
   "outputs": [],
   "source": [
    "from langchain.document_loaders import TextLoader"
   ]
  },
  {
   "cell_type": "code",
   "execution_count": 47,
   "metadata": {},
   "outputs": [],
   "source": [
    "loader=TextLoader('data.txt')"
   ]
  },
  {
   "cell_type": "code",
   "execution_count": 48,
   "metadata": {},
   "outputs": [],
   "source": [
    "documents=loader.load()"
   ]
  },
  {
   "cell_type": "code",
   "execution_count": 49,
   "metadata": {},
   "outputs": [],
   "source": [
    "text_spiltter=CharacterTextSplitter.from_tiktoken_encoder(chunk_size=500)"
   ]
  },
  {
   "cell_type": "code",
   "execution_count": 50,
   "metadata": {},
   "outputs": [],
   "source": [
    "docs=text_spiltter.split_documents(documents)"
   ]
  },
  {
   "cell_type": "code",
   "execution_count": 55,
   "metadata": {},
   "outputs": [],
   "source": [
    "embedding_function=OllamaEmbeddings(model=\"gemma:2b\")"
   ]
  },
  {
   "cell_type": "code",
   "execution_count": 56,
   "metadata": {},
   "outputs": [],
   "source": [
    "db=Chroma.from_documents(docs,embedding_function,persist_directory=\"./speech_new_db\")"
   ]
  },
  {
   "cell_type": "code",
   "execution_count": 57,
   "metadata": {},
   "outputs": [
    {
     "name": "stderr",
     "output_type": "stream",
     "text": [
      "C:\\Users\\Dell\\AppData\\Local\\Temp\\ipykernel_20120\\123899826.py:1: LangChainDeprecationWarning: Since Chroma 0.4.x the manual persistence method is no longer supported as docs are automatically persisted.\n",
      "  db.persist()\n"
     ]
    }
   ],
   "source": [
    "db.persist()"
   ]
  },
  {
   "cell_type": "code",
   "execution_count": 58,
   "metadata": {},
   "outputs": [
    {
     "name": "stderr",
     "output_type": "stream",
     "text": [
      "C:\\Users\\Dell\\AppData\\Local\\Temp\\ipykernel_20120\\531217569.py:1: LangChainDeprecationWarning: The class `Chroma` was deprecated in LangChain 0.2.9 and will be removed in 1.0. An updated version of the class exists in the :class:`~langchain-chroma package and should be used instead. To use it run `pip install -U :class:`~langchain-chroma` and import as `from :class:`~langchain_chroma import Chroma``.\n",
      "  db_connection=Chroma(persist_directory=\"./speech_new_db\",\n"
     ]
    }
   ],
   "source": [
    "\n",
    "db_connection=Chroma(persist_directory=\"./speech_new_db\",\n",
    "                     embedding_function=embedding_function)"
   ]
  },
  {
   "cell_type": "code",
   "execution_count": 63,
   "metadata": {},
   "outputs": [],
   "source": [
    "new_doc=\"what is ai?\""
   ]
  },
  {
   "cell_type": "code",
   "execution_count": 64,
   "metadata": {},
   "outputs": [
    {
     "name": "stderr",
     "output_type": "stream",
     "text": [
      "Number of requested results 4 is greater than number of elements in index 2, updating n_results = 2\n"
     ]
    }
   ],
   "source": [
    "similar_docs=db_connection.similarity_search(new_doc)"
   ]
  },
  {
   "cell_type": "code",
   "execution_count": 66,
   "metadata": {},
   "outputs": [
    {
     "name": "stdout",
     "output_type": "stream",
     "text": [
      "The Future of Artificial Intelligence: Opportunities and Challenges\n",
      "Artificial Intelligence (AI) is transforming nearly every aspect of human life. From healthcare and finance to education and entertainment, AI-powered technologies are enhancing efficiency, automating tasks, and unlocking new possibilities. However, alongside its benefits, AI presents challenges that society must navigate carefully. The future of AI depends on how we manage its development, ensuring that it serves humanity in ethical and responsible ways.\n",
      "\n",
      "The Rise of AI in Everyday Life\n",
      "AI has already become a crucial part of modern life. Virtual assistants like Siri and Alexa use natural language processing to understand and respond to voice commands. AI-driven recommendation systems in platforms like Netflix and Spotify analyze user behavior to suggest personalized content. In healthcare, AI-powered diagnostics assist doctors in identifying diseases more accurately and at an earlier stage. Autonomous vehicles, powered by machine learning algorithms, are expected to revolutionize transportation, reducing accidents caused by human error.\n",
      "\n",
      "In the business world, AI is improving productivity by automating repetitive tasks. Companies use AI for customer service chatbots, fraud detection in banking, and predictive analytics in marketing. AI-powered tools help writers, designers, and developers streamline their work. As AI becomes more sophisticated, its applications will only expand, creating opportunities for innovation and economic growth.\n",
      "\n",
      "Challenges and Ethical Considerations\n",
      "Despite its advantages, AI presents significant challenges. One of the main concerns is job displacement. Automation may replace human workers in industries such as manufacturing, logistics, and customer service. While AI creates new job opportunities in tech-related fields, retraining the workforce for these roles remains a challenge. Governments and organizations must invest in education and reskilling programs to help workers transition to new careers.\n",
      "\n",
      "Another challenge is bias in AI algorithms. AI systems learn from large datasets, which can sometimes reflect human biases. If not properly addressed, AI models can reinforce discrimination in hiring, lending, and law enforcement. Developers must prioritize fairness and transparency, ensuring that AI decisions are ethical and unbiased.\n",
      "\n",
      "Privacy and security are also major concerns. AI systems collect and analyze vast amounts of personal data, raising questions about how that information is used and protected. Companies and policymakers must implement strict regulations to prevent misuse and ensure data security. Striking a balance between innovation and privacy protection is essential for public trust in AI technologies.\n"
     ]
    }
   ],
   "source": [
    "print(similar_docs[0].page_content)"
   ]
  },
  {
   "cell_type": "code",
   "execution_count": null,
   "metadata": {},
   "outputs": [],
   "source": [
    "loader=TextLoader()"
   ]
  },
  {
   "cell_type": "code",
   "execution_count": 67,
   "metadata": {},
   "outputs": [],
   "source": [
    "retriver=db_connection.as_retriever()"
   ]
  },
  {
   "cell_type": "code",
   "execution_count": 68,
   "metadata": {},
   "outputs": [
    {
     "name": "stderr",
     "output_type": "stream",
     "text": [
      "C:\\Users\\Dell\\AppData\\Local\\Temp\\ipykernel_20120\\3711966172.py:1: LangChainDeprecationWarning: The method `BaseRetriever.get_relevant_documents` was deprecated in langchain-core 0.1.46 and will be removed in 1.0. Use :meth:`~invoke` instead.\n",
      "  result=retriver.get_relevant_documents(\"ai methods\")\n",
      "Number of requested results 4 is greater than number of elements in index 2, updating n_results = 2\n"
     ]
    }
   ],
   "source": [
    "result=retriver.get_relevant_documents(\"ai methods\")"
   ]
  },
  {
   "cell_type": "code",
   "execution_count": 72,
   "metadata": {},
   "outputs": [
    {
     "name": "stdout",
     "output_type": "stream",
     "text": [
      "The Future of Artificial Intelligence: Opportunities and Challenges\n",
      "Artificial Intelligence (AI) is transforming nearly every aspect of human life. From healthcare and finance to education and entertainment, AI-powered technologies are enhancing efficiency, automating tasks, and unlocking new possibilities. However, alongside its benefits, AI presents challenges that society must navigate carefully. The future of AI depends on how we manage its development, ensuring that it serves humanity in ethical and responsible ways.\n",
      "\n",
      "The Rise of AI in Everyday Life\n",
      "AI has already become a crucial part of modern life. Virtual assistants like Siri and Alexa use natural language processing to understand and respond to voice commands. AI-driven recommendation systems in platforms like Netflix and Spotify analyze user behavior to suggest personalized content. In healthcare, AI-powered diagnostics assist doctors in identifying diseases more accurately and at an earlier stage. Autonomous vehicles, powered by machine learning algorithms, are expected to revolutionize transportation, reducing accidents caused by human error.\n",
      "\n",
      "In the business world, AI is improving productivity by automating repetitive tasks. Companies use AI for customer service chatbots, fraud detection in banking, and predictive analytics in marketing. AI-powered tools help writers, designers, and developers streamline their work. As AI becomes more sophisticated, its applications will only expand, creating opportunities for innovation and economic growth.\n",
      "\n",
      "Challenges and Ethical Considerations\n",
      "Despite its advantages, AI presents significant challenges. One of the main concerns is job displacement. Automation may replace human workers in industries such as manufacturing, logistics, and customer service. While AI creates new job opportunities in tech-related fields, retraining the workforce for these roles remains a challenge. Governments and organizations must invest in education and reskilling programs to help workers transition to new careers.\n",
      "\n",
      "Another challenge is bias in AI algorithms. AI systems learn from large datasets, which can sometimes reflect human biases. If not properly addressed, AI models can reinforce discrimination in hiring, lending, and law enforcement. Developers must prioritize fairness and transparency, ensuring that AI decisions are ethical and unbiased.\n",
      "\n",
      "Privacy and security are also major concerns. AI systems collect and analyze vast amounts of personal data, raising questions about how that information is used and protected. Companies and policymakers must implement strict regulations to prevent misuse and ensure data security. Striking a balance between innovation and privacy protection is essential for public trust in AI technologies.\n"
     ]
    }
   ],
   "source": [
    "print(result[0].page_content)"
   ]
  },
  {
   "cell_type": "code",
   "execution_count": null,
   "metadata": {},
   "outputs": [],
   "source": []
  }
 ],
 "metadata": {
  "kernelspec": {
   "display_name": "base",
   "language": "python",
   "name": "python3"
  },
  "language_info": {
   "codemirror_mode": {
    "name": "ipython",
    "version": 3
   },
   "file_extension": ".py",
   "mimetype": "text/x-python",
   "name": "python",
   "nbconvert_exporter": "python",
   "pygments_lexer": "ipython3",
   "version": "3.12.3"
  }
 },
 "nbformat": 4,
 "nbformat_minor": 2
}
