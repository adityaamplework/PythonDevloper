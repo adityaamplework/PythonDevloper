{
 "cells": [
  {
   "cell_type": "markdown",
   "metadata": {},
   "source": [
    "<h1>Create a Choice Game"
   ]
  },
  {
   "cell_type": "code",
   "execution_count": null,
   "metadata": {},
   "outputs": [],
   "source": []
  },
  {
   "cell_type": "code",
   "execution_count": 16,
   "metadata": {},
   "outputs": [],
   "source": [
    "game_list=['0','1','2']\n",
    "def Display_game(game_list):\n",
    "    print(\"Here is your current List\")\n",
    "    print(game_list)\n"
   ]
  },
  {
   "cell_type": "code",
   "execution_count": 17,
   "metadata": {},
   "outputs": [
    {
     "name": "stdout",
     "output_type": "stream",
     "text": [
      "Here is your current List\n",
      "['0', '1', '2']\n"
     ]
    }
   ],
   "source": [
    "Display_game()"
   ]
  },
  {
   "cell_type": "code",
   "execution_count": 18,
   "metadata": {},
   "outputs": [],
   "source": [
    "def user_choice():\n",
    "    choice='Worng'\n",
    "\n",
    "    while choice not in ['0','1','2']:\n",
    "        choice=input(\"pick a vaild position(0,1,2)\")\n",
    "    return int(choice)     "
   ]
  },
  {
   "cell_type": "code",
   "execution_count": 19,
   "metadata": {},
   "outputs": [
    {
     "data": {
      "text/plain": [
       "1"
      ]
     },
     "execution_count": 19,
     "metadata": {},
     "output_type": "execute_result"
    }
   ],
   "source": [
    "user_choice()"
   ]
  },
  {
   "cell_type": "code",
   "execution_count": 20,
   "metadata": {},
   "outputs": [],
   "source": [
    "def replacement(game_list,uc):\n",
    "    data=input(\"Enter Your Data\")\n",
    "    game_list[uc]=data\n",
    "    "
   ]
  },
  {
   "cell_type": "code",
   "execution_count": 21,
   "metadata": {},
   "outputs": [],
   "source": [
    "def game_on():\n",
    "    on=False\n",
    "    while on==False:\n",
    "            Display_game()\n",
    "            c=user_choice()\n",
    "            replacement(game_list,c)\n",
    "\n",
    "            i=input(\"Do you Play Game \\n if YES:press Y\\n if NO press N\")\n",
    "            if i=='N':\n",
    "                  on=True\n",
    "                  \n"
   ]
  },
  {
   "cell_type": "code",
   "execution_count": 22,
   "metadata": {},
   "outputs": [
    {
     "name": "stdout",
     "output_type": "stream",
     "text": [
      "Here is your current List\n",
      "['0', '1', '2']\n",
      "Here is your current List\n",
      "['0', '1', 'sdfgh']\n",
      "Here is your current List\n",
      "['0', 'dfgh', 'sdfgh']\n"
     ]
    }
   ],
   "source": [
    "game_on()"
   ]
  },
  {
   "cell_type": "code",
   "execution_count": null,
   "metadata": {},
   "outputs": [],
   "source": []
  }
 ],
 "metadata": {
  "kernelspec": {
   "display_name": "base",
   "language": "python",
   "name": "python3"
  },
  "language_info": {
   "codemirror_mode": {
    "name": "ipython",
    "version": 3
   },
   "file_extension": ".py",
   "mimetype": "text/x-python",
   "name": "python",
   "nbconvert_exporter": "python",
   "pygments_lexer": "ipython3",
   "version": "3.12.7"
  }
 },
 "nbformat": 4,
 "nbformat_minor": 2
}
