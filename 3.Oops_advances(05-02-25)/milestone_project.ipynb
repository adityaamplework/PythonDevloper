{
 "cells": [
  {
   "cell_type": "markdown",
   "metadata": {},
   "source": [
    "Step1\n"
   ]
  },
  {
   "cell_type": "code",
   "execution_count": 1,
   "metadata": {},
   "outputs": [],
   "source": [
    "from IPython.display import clear_output\n",
    "def Display_output(Bord):\n",
    "    clear_output()\n",
    "    print(Bord[9]+'|'+Bord[8]+'|'+Bord[7])\n",
    "    print(Bord[6]+'|'+Bord[5]+'|'+Bord[4])\n",
    "    print(Bord[3]+'|'+Bord[2]+'|'+Bord[1])"
   ]
  },
  {
   "cell_type": "markdown",
   "metadata": {},
   "source": [
    "Step2"
   ]
  },
  {
   "cell_type": "code",
   "execution_count": 2,
   "metadata": {},
   "outputs": [],
   "source": [
    "def Player_marker():\n",
    "    marker=' '\n",
    "    while marker!='O' and marker!='X':\n",
    "        marker=input(\"Player First choose Marker :O and X\").upper()\n",
    "    if marker=='O':\n",
    "        return ('O','X')\n",
    "    return ('X','O')  \n",
    "        "
   ]
  },
  {
   "cell_type": "markdown",
   "metadata": {},
   "source": [
    "Step3"
   ]
  },
  {
   "cell_type": "code",
   "execution_count": 3,
   "metadata": {},
   "outputs": [],
   "source": [
    "def place_marker(Bord,marker,position):\n",
    "    Bord[position]=marker\n",
    "    "
   ]
  },
  {
   "cell_type": "markdown",
   "metadata": {},
   "source": [
    "step4"
   ]
  },
  {
   "cell_type": "code",
   "execution_count": 4,
   "metadata": {},
   "outputs": [],
   "source": [
    "def win_check(bord,mark):\n",
    "    return ((bord[1]==mark and bord[2]==mark and bord[3]==mark) or\n",
    "            \n",
    "            \n",
    "            (bord[4]==mark and bord[5]==mark and bord[6]==mark) or\n",
    "            (bord[7]==mark and bord[8]==mark and bord[9]==mark) or\n",
    "            (bord[1]==mark and bord[4]==mark and bord[7]==mark) or\n",
    "            (bord[2]==mark and bord[5]==mark and bord[8]==mark) or\n",
    "            (bord[3]==mark and bord[6]==mark and bord[9]==mark) or\n",
    "            (bord[1]==mark and bord[5]==mark and bord[9]==mark) or\n",
    "            (bord[3]==mark and bord[5]==mark and bord[7]==mark) \n",
    "           \n",
    "            \n",
    "            )\n"
   ]
  },
  {
   "cell_type": "markdown",
   "metadata": {},
   "source": [
    "step5"
   ]
  },
  {
   "cell_type": "code",
   "execution_count": 5,
   "metadata": {},
   "outputs": [],
   "source": [
    "import random\n",
    "def choose_first():\n",
    "    flip=random.randint(0,1)\n",
    "    if flip==0:\n",
    "        return 'Player 1'\n",
    "    else:\n",
    "        return 'Player 2'"
   ]
  },
  {
   "cell_type": "markdown",
   "metadata": {},
   "source": [
    "step6"
   ]
  },
  {
   "cell_type": "code",
   "execution_count": 6,
   "metadata": {},
   "outputs": [],
   "source": [
    "def space_check(Bord,position):\n",
    "    return Bord[position]==' '"
   ]
  },
  {
   "cell_type": "markdown",
   "metadata": {},
   "source": [
    "step7"
   ]
  },
  {
   "cell_type": "code",
   "execution_count": 7,
   "metadata": {},
   "outputs": [],
   "source": [
    "def Bord_is_full(Bord):\n",
    "    for i in range(1,10):\n",
    "        if space_check(Bord,i):\n",
    "            return False\n",
    "    return True"
   ]
  },
  {
   "cell_type": "markdown",
   "metadata": {},
   "source": [
    "step8"
   ]
  },
  {
   "cell_type": "code",
   "execution_count": 8,
   "metadata": {},
   "outputs": [],
   "source": [
    "def player_choice(Bord):\n",
    "    position=0\n",
    "    while position not in [1,2,3,4,5,6,7,8,9] and not space_check(Bord,position):\n",
    "        position=int(input(\"Enter Number range 1 to 9\"))\n",
    "    return position\n",
    "    "
   ]
  },
  {
   "cell_type": "markdown",
   "metadata": {},
   "source": [
    "step9"
   ]
  },
  {
   "cell_type": "code",
   "execution_count": 9,
   "metadata": {},
   "outputs": [],
   "source": [
    "def replay():\n",
    "    choice=input(\"If replay Game press YES else press NO\").upper()\n",
    "    return choice==\"YES\""
   ]
  },
  {
   "cell_type": "markdown",
   "metadata": {},
   "source": [
    "step10"
   ]
  },
  {
   "cell_type": "code",
   "execution_count": null,
   "metadata": {},
   "outputs": [
    {
     "name": "stdout",
     "output_type": "stream",
     "text": [
      "welcome Tic Tac Toe\n",
      "hi\n",
      "Player 2 will go First\n"
     ]
    }
   ],
   "source": [
    "print(\"welcome Tic Tac Toe\")\n",
    "while True:\n",
    "    this_list=[' ']*10\n",
    "    Player1_marker,Player2_marker=Player_marker()\n",
    "    print('hi')\n",
    "    turn=choose_first()\n",
    "    print(turn+' will go First') \n",
    "    \n",
    "\n",
    "    play_game=input(\"Ready to play? Y or N\").upper()\n",
    "\n",
    "    if play_game=='Y':\n",
    "        game_on=True\n",
    "    else:\n",
    "        game_on=False\n",
    "\n",
    "\n",
    "       \n",
    "\n",
    "    while game_on:\n",
    "        print(turn+'Turn')\n",
    "        if turn=='Player 1':\n",
    "            Display_output(this_list)\n",
    "            position=player_choice(this_list)\n",
    "            place_marker(this_list,Player1_marker,position)\n",
    "\n",
    "            if win_check(this_list,Player1_marker):\n",
    "                Display_output(this_list)\n",
    "                print(\"Player 1 Win!!!\")\n",
    "                game_on=False\n",
    "            else:\n",
    "                if Bord_is_full(this_list):\n",
    "                    Display_output(this_list)\n",
    "                    game_on=False\n",
    "                else:\n",
    "                    turn='Player 2' \n",
    "        else:             \n",
    "             Display_output(this_list)\n",
    "             position=player_choice(this_list)\n",
    "             place_marker(this_list,Player2_marker,position)\n",
    "\n",
    "             if win_check(this_list,Player2_marker):\n",
    "                Display_output(this_list)\n",
    "                print(\"Player 2 Win!!!\")\n",
    "                game_on=False\n",
    "             else:\n",
    "                if Bord_is_full(this_list):\n",
    "                    Display_output(this_list)\n",
    "                    game_on=False\n",
    "                else:\n",
    "                    turn='Player 1' \n"
   ]
  },
  {
   "cell_type": "code",
   "execution_count": null,
   "metadata": {},
   "outputs": [],
   "source": []
  }
 ],
 "metadata": {
  "kernelspec": {
   "display_name": "base",
   "language": "python",
   "name": "python3"
  },
  "language_info": {
   "codemirror_mode": {
    "name": "ipython",
    "version": 3
   },
   "file_extension": ".py",
   "mimetype": "text/x-python",
   "name": "python",
   "nbconvert_exporter": "python",
   "pygments_lexer": "ipython3",
   "version": "3.12.7"
  }
 },
 "nbformat": 4,
 "nbformat_minor": 2
}
